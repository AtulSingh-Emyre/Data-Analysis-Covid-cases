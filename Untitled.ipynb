{
 "cells": [
  {
   "cell_type": "code",
   "execution_count": null,
   "metadata": {},
   "outputs": [],
   "source": [
    "from openpyxl import load_workbook\n",
    "import math\n",
    "import re\n",
    "from matplotlib import pyplot\n",
    "import datetime\n",
    "import pandas as pd\n",
    "import plotly.express as px\n",
    "import numpy as np"
   ]
  },
  {
   "cell_type": "code",
   "execution_count": null,
   "metadata": {},
   "outputs": [],
   "source": [
    "wb = load_workbook(\"D:\\owid-covid-data.xlsx\")  # Work Book\n",
    "ws = wb[wb.sheetnames[0]]\n",
    "dataCol = \"a b c d e f g h i j k l m n o p q r s t u v w x y z aa ab ac ad ae af ag ah ai aj ak al am an ao ap aq ar as at au av aw ax\".upper().split(\" \")\n",
    "dataS5 = {}\n",
    "for X in dataCol:\n",
    "    column = ws[X]\n",
    "    columnDate = ws['D']\n",
    "    sample = []\n",
    "    for x in range(1,len(columnDate)):\n",
    "          sample.append(column[x].value)\n",
    "    dataS5[column[0].value] = sample    \n"
   ]
  },
  {
   "cell_type": "code",
   "execution_count": null,
   "metadata": {},
   "outputs": [],
   "source": [
    "columnHeadings = dataS5.keys()\n",
    "print(columnHeadings)"
   ]
  }
 ],
 "metadata": {
  "kernelspec": {
   "display_name": "Python 3",
   "language": "python",
   "name": "python3"
  },
  "language_info": {
   "codemirror_mode": {
    "name": "ipython",
    "version": 3
   },
   "file_extension": ".py",
   "mimetype": "text/x-python",
   "name": "python",
   "nbconvert_exporter": "python",
   "pygments_lexer": "ipython3",
   "version": "3.8.2"
  }
 },
 "nbformat": 4,
 "nbformat_minor": 4
}
