{
 "cells": [
  {
   "cell_type": "markdown",
   "metadata": {},
   "source": [
    "<h1>Introduction</h1>"
   ]
  },
  {
   "cell_type": "code",
   "execution_count": 38,
   "metadata": {},
   "outputs": [],
   "source": [
    "from openpyxl import load_workbook\n",
    "import math\n",
    "import re\n",
    "from numpy import *\n",
    "from matplotlib import pyplot\n",
    "from scipy.stats import *\n",
    "import datetime\n",
    "from scipy.interpolate import interp1d\n",
    "import pandas as pd\n",
    "import plotly.express as px\n",
    "import numpy as np"
   ]
  },
  {
   "cell_type": "code",
   "execution_count": 35,
   "metadata": {},
   "outputs": [],
   "source": [
    "\n",
    "letters = \"a b c d e f g h i j k l m n o p q r s t u v w x y z\".upper().split()\n",
    "# print(letters)\n",
    "alphas = []\n",
    "for i in letters:\n",
    "    alphas.append(i)\n",
    "for i in letters:\n",
    "    for j in letters:\n",
    "        k = (i+j)\n",
    "        alphas.append(k)\n",
    "        if k == 'LF':\n",
    "            break\n",
    "    if i == 'L':\n",
    "        break\n",
    "alphas = alphas[4:]        \n",
    "# print(alphas)        "
   ]
  },
  {
   "cell_type": "markdown",
   "metadata": {},
   "source": [
    "<h2> Total cases worldwide </h2>"
   ]
  },
  {
   "cell_type": "code",
   "execution_count": 24,
   "metadata": {},
   "outputs": [],
   "source": [
    "wb2 = load_workbook(r\"D:\\\\time-series-covid19-confirmed-global.xlsx\")  # Work Book\n",
    "ws2 = wb2[wb2.sheetnames[0]]"
   ]
  },
  {
   "cell_type": "code",
   "execution_count": 33,
   "metadata": {
    "scrolled": true
   },
   "outputs": [
    {
     "data": {
      "image/png": "[encoded data removed]",
      "text/plain": [
       "<Figure size 432x288 with 1 Axes>"
      ]
     },
     "metadata": {
      "needs_background": "light"
     },
     "output_type": "display_data"
    }
   ],
   "source": [
    "totalCasesInWorld = []\n",
    "date = []\n",
    "for X in alphas:\n",
    "    column = ws2[X]\n",
    "    Sum = 0\n",
    "    for i in range(1,272):\n",
    "        Sum+=column[i].value\n",
    "    if isinstance(column[0].value, str): \n",
    "        date.append(column[0].value)\n",
    "    else: \n",
    "        date.append(column[0].value.strftime('%d/%m/%Y'))\n",
    "    totalCasesInWorld.append(Sum)\n",
    "pyplot.plot(date,totalCasesInWorld)\n",
    "pyplot.show()"
   ]
  },
  {
   "cell_type": "markdown",
   "metadata": {},
   "source": [
    "<h2> Total Deaths World Wide </h2>"
   ]
  },
  {
   "cell_type": "code",
   "execution_count": 36,
   "metadata": {
    "scrolled": true
   },
   "outputs": [
    {
     "data": {
      "image/png": "[encoded data removed]",
      "text/plain": [
       "<Figure size 432x288 with 1 Axes>"
      ]
     },
     "metadata": {
      "needs_background": "light"
     },
     "output_type": "display_data"
    }
   ],
   "source": [
    "wb2 = load_workbook(r\"D:\\\\time_series_covid19_deaths_global.xlsx\")  # Work Book\n",
    "ws2 = wb2[wb2.sheetnames[0]]\n",
    "totalDeathsInWorld = []\n",
    "date = []\n",
    "for X in alphas:\n",
    "    column = ws2[X]\n",
    "    Sum = 0\n",
    "    for i in range(1,272):\n",
    "        Sum+=column[i].value\n",
    "    if isinstance(column[0].value, str): \n",
    "        date.append(column[0].value)\n",
    "    else: \n",
    "        date.append(column[0].value.strftime('%d/%m/%Y'))\n",
    "    totalDeathsInWorld.append(Sum)\n",
    "pyplot.plot(date,totalDeathsInWorld)\n",
    "pyplot.show()"
   ]
  },
  {
   "cell_type": "markdown",
   "metadata": {},
   "source": [
    "<h2> Heat Map for cases </h2>"
   ]
  },
  {
   "cell_type": "code",
   "execution_count": 41,
   "metadata": {
    "scrolled": false
   },
   "outputs": [
    {
     "data": {
      "application/vnd.plotly.v1+json": {
       "config": {
        "plotlyServerURL": "https://plot.ly"
       },
       "data": [
        {
         "coloraxis": "coloraxis",
         "hovertemplate": "Lat=%{lat}<br>Long=%{lon}<extra></extra>",
         "lat": [
          33.93911,
          41.1533,
          28.0339,
          42.5063,
          -11.2027,
          17.0608,
          -38.4161,
          40.0691,
          -35.4735,
          -33.8688,
          -12.4634,
          -27.4698,
          -34.9285,
          -42.8821,
          -37.8136,
          -31.9505,
          47.5162,
          40.1431,
          25.025885,
          26.0275,
          23.685,
          13.1939,
          53.7098,
          50.8333,
          9.3077,
          27.5142,
          -16.2902,
          43.9159,
          -14.235,
          4.5353,
          42.7339,
          12.2383,
          16.5388,
          11.55,
          3.8480000000000003,
          53.9333,
          53.7267,
          53.7609,
          46.5653,
          53.1355,
          44.681999999999995,
          51.2538,
          46.5107,
          52.9399,
          52.9399,
          6.6111,
          15.4542,
          -35.6751,
          31.8257,
          40.1824,
          30.0572,
          26.0789,
          35.7518,
          23.3417,
          23.8298,
          26.8154,
          19.1959,
          39.549,
          47.861999999999995,
          37.8957,
          22.3,
          30.9756,
          27.6104,
          44.0935,
          32.9711,
          27.614,
          43.6661,
          41.2956,
          22.1667,
          37.2692,
          35.7452,
          35.1917,
          36.3427,
          31.201999999999998,
          37.5777,
          30.6171,
          39.3054,
          31.6927,
          41.1129,
          24.974,
          29.1832,
          4.5709,
          -0.228,
          -4.0383,
          9.7489,
          7.54,
          45.1,
          21.521757,
          35.1264,
          49.8175,
          61.8926,
          71.7069,
          56.2639,
          11.8251,
          18.7357,
          -1.8312,
          26.820553000000004,
          13.7942,
          1.6508,
          15.1794,
          58.5953,
          -26.5225,
          9.145,
          -17.7134,
          61.92411,
          3.9339,
          -17.6797,
          16.265,
          -12.8275,
          -20.904304999999997,
          -21.1151,
          17.9,
          18.0708,
          14.6415,
          46.2276,
          -0.8037,
          13.4432,
          42.3154,
          51.165690999999995,
          7.9465,
          39.0742,
          15.7835,
          9.9456,
          4.860416000000001,
          18.9712,
          41.9029,
          15.2,
          47.1625,
          64.9631,
          20.593684,
          -0.7893,
          32.427908,
          33.223191,
          53.1424,
          31.046051000000002,
          41.87194,
          18.1096,
          36.204824,
          31.24,
          48.0196,
          -0.0236,
          35.907757000000004,
          29.311659999999996,
          41.20438,
          56.8796,
          33.8547,
          6.4280550000000005,
          47.14,
          55.1694,
          49.8153,
          -18.766947000000002,
          4.210483999999999,
          3.2028,
          35.9375,
          21.0079,
          -20.348404000000002,
          23.6345,
          47.4116,
          43.7333,
          46.8625,
          42.708678000000006,
          31.7917,
          -22.9576,
          28.1667,
          12.5211,
          12.1696,
          18.0425,
          52.1326,
          -40.9006,
          12.865416,
          17.607789,
          9.082,
          41.6086,
          60.472,
          21.512583,
          30.3753,
          8.538,
          -6.314993,
          -23.4425,
          -9.19,
          12.879721,
          51.9194,
          39.3999,
          25.3548,
          45.9432,
          61.52401,
          -1.9403,
          13.9094,
          12.9843,
          43.9424,
          23.885942,
          14.4974,
          44.0165,
          -4.6796,
          1.2833,
          48.669,
          46.1512,
          5.152149,
          -30.5595,
          40.463667,
          7.873054,
          12.8628,
          3.9193,
          60.128161,
          46.8182,
          23.7,
          -6.369028,
          15.870032,
          8.6195,
          10.6918,
          33.886917,
          38.9637,
          1.373333,
          48.3794,
          23.424076,
          32.3078,
          19.3133,
          49.3723,
          36.1408,
          54.2361,
          16.742498,
          55.3781,
          -32.5228,
          40,
          41.377491,
          6.4238,
          14.058323999999999,
          -13.133897,
          -19.015438,
          15.415,
          12.1165,
          -18.665695,
          34.802075,
          -8.874217,
          17.1899,
          19.856270000000002,
          26.3351,
          31.9522,
          11.8037,
          17.570692,
          17.357822,
          64.8255,
          64.2823,
          42.602636,
          21.9162,
          18.2206,
          18.4207,
          21.694000000000003,
          -22.3285,
          -3.3731,
          8.460555000000001,
          12.1784,
          -13.2543,
          -51.7963,
          46.8852,
          6.877000000000001,
          24.2155,
          0.1864,
          15.552726999999999,
          -11.6455,
          38.861,
          -29.61
         ],
         "lon": [
          67.709953,
          20.1683,
          1.6596,
          1.5218,
          17.8739,
          -61.7964,
          -63.6167,
          45.0382,
          149.0124,
          151.2093,
          130.8456,
          153.0251,
          138.6007,
          147.3272,
          144.9631,
          115.8605,
          14.5501,
          47.5769,
          -78.035889,
          50.55,
          90.3563,
          -59.5432,
          27.9534,
          4.469936,
          2.3158,
          90.4336,
          -63.5887,
          17.6791,
          -51.9253,
          114.7277,
          25.4858,
          -1.5616,
          -23.0418,
          104.9167,
          11.5021,
          -116.5765,
          -127.6476,
          -98.8139,
          -66.4619,
          -57.6604,
          -63.7443,
          -85.3232,
          -63.4168,
          -73.5491,
          -106.4509,
          20.9394,
          18.7322,
          -71.543,
          117.2264,
          116.4142,
          107.874,
          117.9874,
          104.2861,
          113.4244,
          108.7881,
          106.8748,
          109.7453,
          116.1306,
          127.7615,
          114.9042,
          114.2,
          112.2707,
          111.7088,
          113.9448,
          119.455,
          115.7221,
          126.1923,
          122.6085,
          113.55,
          106.1655,
          95.9956,
          108.8701,
          118.1498,
          121.4491,
          112.2922,
          102.7103,
          117.323,
          88.0924,
          85.2401,
          101.48700000000001,
          120.0934,
          -74.2973,
          15.8277,
          21.7587,
          -83.7534,
          -5.5471,
          15.2,
          -77.78116700000001,
          33.4299,
          15.472999999999999,
          -6.9118,
          -42.6043,
          9.5018,
          42.5903,
          -70.1627,
          -78.1834,
          30.802497999999996,
          -88.8965,
          10.2679,
          39.7823,
          25.0136,
          31.4659,
          40.4897,
          178.065,
          25.748151,
          -53.1258,
          149.4068,
          -61.551,
          45.166244,
          165.618042,
          55.5364,
          -62.8333,
          -63.0501,
          -61.0242,
          2.2137,
          11.6094,
          -15.3101,
          43.3569,
          10.451526,
          -1.0232,
          21.8243,
          -90.2308,
          -9.6966,
          -58.93018000000001,
          -72.2852,
          12.4534,
          -86.2419,
          19.5033,
          -19.0208,
          78.96288,
          113.9213,
          53.68804599999999,
          43.679291,
          -7.6921,
          34.851612,
          12.56738,
          -77.2975,
          138.252924,
          36.51,
          66.9237,
          37.9062,
          127.766922,
          47.481766,
          74.766098,
          24.6032,
          35.8623,
          -9.429499,
          9.55,
          23.8813,
          6.1296,
          46.869107,
          101.97576600000001,
          73.2207,
          14.3754,
          -10.9408,
          57.552152,
          -102.5528,
          28.3699,
          7.4167,
          103.8467,
          19.37439,
          -7.0926,
          18.4904,
          84.25,
          -69.9683,
          -68.99,
          -63.0548,
          5.2913,
          174.886,
          -85.207229,
          8.081666,
          8.6753,
          21.7453,
          8.4689,
          55.923255000000005,
          69.3451,
          -80.7821,
          143.95555,
          -58.4438,
          -75.0152,
          121.77401699999999,
          19.1451,
          -8.2245,
          51.1839,
          24.9668,
          105.31875600000001,
          29.8739,
          -60.9789,
          -61.2872,
          12.4578,
          45.079162,
          -14.4524,
          21.0059,
          55.492,
          103.8333,
          19.699,
          14.9955,
          46.199616,
          22.9375,
          -3.7492199999999998,
          80.77179699999999,
          30.2176,
          -56.0278,
          18.643501,
          8.2275,
          121,
          34.888822,
          100.992541,
          0.8248,
          -61.2225,
          9.537499,
          35.2433,
          32.290275,
          31.1656,
          53.847818000000004,
          -64.7505,
          -81.2546,
          -2.3644,
          -5.3536,
          -4.5481,
          -62.187366000000004,
          -3.4360000000000004,
          -55.7658,
          -100,
          64.585262,
          -66.5897,
          108.277199,
          27.849332,
          29.154857,
          -61.371,
          -61.678999999999995,
          35.529562,
          38.996815000000005,
          125.727539,
          -88.4976,
          102.495496,
          17.228331,
          35.2332,
          -15.1804,
          -3.9961660000000006,
          -62.782998,
          -124.8457,
          -135,
          20.902977,
          95.956,
          -63.0686,
          -64.64,
          -71.7979,
          24.6849,
          29.9189,
          -11.779889,
          -68.2385,
          34.3015,
          -59.5236,
          -56.3159,
          31.307,
          -12.8858,
          6.6131,
          48.516388,
          43.3333,
          71.2761,
          28.2336
         ],
         "name": "",
         "radius": [
          5.104504805456076,
          5.015031435043377,
          5.086606711900162,
          5.002632994498593,
          5.003268446634077,
          5.00025646050311,
          5.545123896726643,
          5.109847732604196,
          5.0003191508483145,
          5.010748544641444,
          5.000091185956661,
          5.003086074720754,
          5.001282302515548,
          5.000649699941212,
          5.031145703322106,
          5.001894958161866,
          5.060208377446732,
          5.090835460640327,
          5.001632798536465,
          5.116777865310451,
          5.677226701878475,
          5.000310602164878,
          5.19322019260403,
          5.195907328764391,
          5.005140608306777,
          5.000284956114567,
          5.218812101253237,
          5.033838538604758,
          12.586910957351714,
          5.000398938560393,
          5.033308520231665,
          5.0031487650659585,
          5.0069814248068765,
          5.000678195552668,
          5.049166328007284,
          5.030894941941288,
          5.0103724025702165,
          5.0011797183143045,
          5.000481575833617,
          5.000755133703601,
          5.003043331303569,
          5.117336379295001,
          5.000099734640099,
          5.16901032111047,
          5.003755721589985,
          5.013127928198074,
          5.002664339671195,
          6.013492014433685,
          5.002821065534207,
          5.002655790987759,
          5.001658444586776,
          5.001040089818168,
          5.00047302715018,
          5.00478441316357,
          5.0007237885309985,
          5.000416035927267,
          5.000484425394763,
          5.000991647278691,
          5.002695684843798,
          5.003633190460722,
          5.009320914507467,
          5.194151999098662,
          5.0029008532462855,
          5.000732337214435,
          5.001863612989264,
          5.002652941426613,
          5.000444531538723,
          5.000683894674959,
          5.000128230251555,
          5.000210867524779,
          5.000048442539477,
          5.00092040825005,
          5.0022739497942394,
          5.002128622175811,
          5.000569912229133,
          5.001718285370836,
          5.000581310473716,
          5,
          5.0018180200109335,
          5.0005414166176765,
          5.003616093093847,
          5.8420652654716925,
          5.009115746104979,
          5.025842670030025,
          5.0507763300545845,
          5.045724058143322,
          5.014641045166421,
          5.007428805906746,
          5.003171561555124,
          5.047225776867087,
          5.000638301696629,
          5.000037044294894,
          5.0392897490764135,
          5.01448431930341,
          5.198466234673197,
          5.243221442026994,
          5.268078163900619,
          5.047391051413536,
          5.0137348847220995,
          5.000792177998495,
          5.005878644643505,
          5.0075427883525725,
          5.049949957322342,
          5.000074088589788,
          5.021175088873428,
          5.022220877813887,
          5.000173823229885,
          5.000752284142456,
          5.008437550552311,
          5.000059840784059,
          5.001877860794992,
          5.0000199469280195,
          5.000148177179574,
          5.000763682387038,
          5.607218683651805,
          5.020947123981775,
          5.001416231889395,
          5.00332543785699,
          5.599541965925386,
          5.101159420671067,
          5.012754635687991,
          5.141873950320313,
          5.020821743291366,
          5.001174019192013,
          5.021152292384263,
          5.000031345172602,
          5.119718612412776,
          5.01283442340007,
          5.005368573198431,
          9.832818658751023,
          5.308821189161321,
          5.866845049194385,
          5.355078115238883,
          5.0742709617005834,
          5.202230504946619,
          5.705368967753051,
          5.002499065124748,
          5.103248148990839,
          5.0033966768856315,
          5.257503442489061,
          5.058800694240774,
          5.040848459023091,
          5.19079521606907,
          5.102025687259349,
          5.003504960209167,
          5.012976901457353,
          5.003376729957612,
          5.000247911819673,
          5.005909989816107,
          5.019074962309074,
          5.030966180969929,
          5.0255748112823335,
          5.010805535864358,
          5.002345188822881,
          5.017977881267993,
          5.000977399472963,
          6.210026246650122,
          5.070475346254558,
          5.000339097776334,
          5.000826372732242,
          5.008753851839479,
          5.069304176623691,
          5.006063866117973,
          5.056335823849775,
          5.000341947337479,
          5.000079787712078,
          5.0003618942655,
          5.154731170209548,
          5.004448164948381,
          5.010460738965732,
          5.003228552778038,
          5.122958563435396,
          5.030641330999323,
          5.026327095424788,
          5.225565561168461,
          5.793044265082837,
          5.185948112560296,
          5.0002023188413425,
          5.015208107834408,
          6.1611705208077145,
          5.266015081631159,
          5.130187900061945,
          5.145529937270199,
          5.315429321458116,
          5.144999918897106,
          7.389243038193325,
          5.005758963075387,
          5.000068389467496,
          5.0001510267407205,
          5.0019889936796735,
          5.786205318333243,
          5.029153860081287,
          5.072809136832857,
          5.00032200040946,
          5.148758490048237,
          5.006528344584716,
          5.006140804268906,
          5.009149940838727,
          6.405352264940797,
          5.822158231308085,
          5.008018665063898,
          5.033177440418965,
          5.004698926329199,
          5.229164556895434,
          5.100392888722884,
          5.00132789549388,
          5.001447577061997,
          5.009429197831002,
          5.002678587476924,
          5.000478726272472,
          5.004371226797448,
          5.657883880821708,
          5.00328554400095,
          5.203467214483837,
          5.172412697118392,
          5.000441681977578,
          5.000575611351424,
          5.001669842831359,
          5.000530018373094,
          5.000954602983797,
          5.000031345172602,
          5.863929948142371,
          5.003598995726973,
          18,
          5.068412263985098,
          5.052924899158415,
          5.001587205558135,
          5.016989083550448,
          5.009027409709463,
          5.000048442539477,
          5.00006553990635,
          5.005308732414372,
          5.002154268226122,
          5.00006553990635,
          5.000133929373846,
          5.000054141661767,
          5.010315411347303,
          5.033727405720078,
          5.005642131068415,
          5.007220787943112,
          5.0000455929783305,
          5.000011398244583,
          5.000037044294894,
          5.023089993963314,
          5.001003045523274,
          5.000005699122291,
          5.0000199469280195,
          5.00030205348144,
          5.0022881975999685,
          5.001099930602226,
          5.005191900407399,
          5.000028495611456,
          5.011617660790872,
          5.000034194733748,
          5.000008548683437,
          5.006613831419086,
          5.000025646050311,
          5.002479118196727,
          5.0049211920985615,
          5.001074284551915,
          5.021109548967078,
          5.001718285370836
         ],
         "subplot": "mapbox",
         "type": "densitymapbox"
        }
       ],
       "layout": {
        "coloraxis": {
         "colorscale": [
          [
           0,
           "#0d0887"
          ],
          [
           0.1111111111111111,
           "#46039f"
          ],
          [
           0.2222222222222222,
           "#7201a8"
          ],
          [
           0.3333333333333333,
           "#9c179e"
          ],
          [
           0.4444444444444444,
           "#bd3786"
          ],
          [
           0.5555555555555556,
           "#d8576b"
          ],
          [
           0.6666666666666666,
           "#ed7953"
          ],
          [
           0.7777777777777778,
           "#fb9f3a"
          ],
          [
           0.8888888888888888,
           "#fdca26"
          ],
          [
           1,
           "#f0f921"
          ]
         ]
        },
        "legend": {
         "tracegroupgap": 0
        },
        "mapbox": {
         "center": {
          "lat": 21.398404770992368,
          "lon": 23.177981732824424
         },
         "domain": {
          "x": [
           0,
           1
          ],
          "y": [
           0,
           1
          ]
         },
         "style": "stamen-watercolor",
         "zoom": 0
        },
        "margin": {
         "t": 60
        },
        "template": {
         "data": {
          "bar": [
           {
            "error_x": {
             "color": "#2a3f5f"
            },
            "error_y": {
             "color": "#2a3f5f"
            },
            "marker": {
             "line": {
              "color": "#E5ECF6",
              "width": 0.5
             }
            },
            "type": "bar"
           }
          ],
          "barpolar": [
           {
            "marker": {
             "line": {
              "color": "#E5ECF6",
              "width": 0.5
             }
            },
            "type": "barpolar"
           }
          ],
          "carpet": [
           {
            "aaxis": {
             "endlinecolor": "#2a3f5f",
             "gridcolor": "white",
             "linecolor": "white",
             "minorgridcolor": "white",
             "startlinecolor": "#2a3f5f"
            },
            "baxis": {
             "endlinecolor": "#2a3f5f",
             "gridcolor": "white",
             "linecolor": "white",
             "minorgridcolor": "white",
             "startlinecolor": "#2a3f5f"
            },
            "type": "carpet"
           }
          ],
          "choropleth": [
           {
            "colorbar": {
             "outlinewidth": 0,
             "ticks": ""
            },
            "type": "choropleth"
           }
          ],
          "contour": [
           {
            "colorbar": {
             "outlinewidth": 0,
             "ticks": ""
            },
            "colorscale": [
             [
              0,
              "#0d0887"
             ],
             [
              0.1111111111111111,
              "#46039f"
             ],
             [
              0.2222222222222222,
              "#7201a8"
             ],
             [
              0.3333333333333333,
              "#9c179e"
             ],
             [
              0.4444444444444444,
              "#bd3786"
             ],
             [
              0.5555555555555556,
              "#d8576b"
             ],
             [
              0.6666666666666666,
              "#ed7953"
             ],
             [
              0.7777777777777778,
              "#fb9f3a"
             ],
             [
              0.8888888888888888,
              "#fdca26"
             ],
             [
              1,
              "#f0f921"
             ]
            ],
            "type": "contour"
           }
          ],
          "contourcarpet": [
           {
            "colorbar": {
             "outlinewidth": 0,
             "ticks": ""
            },
            "type": "contourcarpet"
           }
          ],
          "heatmap": [
           {
            "colorbar": {
             "outlinewidth": 0,
             "ticks": ""
            },
            "colorscale": [
             [
              0,
              "#0d0887"
             ],
             [
              0.1111111111111111,
              "#46039f"
             ],
             [
              0.2222222222222222,
              "#7201a8"
             ],
             [
              0.3333333333333333,
              "#9c179e"
             ],
             [
              0.4444444444444444,
              "#bd3786"
             ],
             [
              0.5555555555555556,
              "#d8576b"
             ],
             [
              0.6666666666666666,
              "#ed7953"
             ],
             [
              0.7777777777777778,
              "#fb9f3a"
             ],
             [
              0.8888888888888888,
              "#fdca26"
             ],
             [
              1,
              "#f0f921"
             ]
            ],
            "type": "heatmap"
           }
          ],
          "heatmapgl": [
           {
            "colorbar": {
             "outlinewidth": 0,
             "ticks": ""
            },
            "colorscale": [
             [
              0,
              "#0d0887"
             ],
             [
              0.1111111111111111,
              "#46039f"
             ],
             [
              0.2222222222222222,
              "#7201a8"
             ],
             [
              0.3333333333333333,
              "#9c179e"
             ],
             [
              0.4444444444444444,
              "#bd3786"
             ],
             [
              0.5555555555555556,
              "#d8576b"
             ],
             [
              0.6666666666666666,
              "#ed7953"
             ],
             [
              0.7777777777777778,
              "#fb9f3a"
             ],
             [
              0.8888888888888888,
              "#fdca26"
             ],
             [
              1,
              "#f0f921"
             ]
            ],
            "type": "heatmapgl"
           }
          ],
          "histogram": [
           {
            "marker": {
             "colorbar": {
              "outlinewidth": 0,
              "ticks": ""
             }
            },
            "type": "histogram"
           }
          ],
          "histogram2d": [
           {
            "colorbar": {
             "outlinewidth": 0,
             "ticks": ""
            },
            "colorscale": [
             [
              0,
              "#0d0887"
             ],
             [
              0.1111111111111111,
              "#46039f"
             ],
             [
              0.2222222222222222,
              "#7201a8"
             ],
             [
              0.3333333333333333,
              "#9c179e"
             ],
             [
              0.4444444444444444,
              "#bd3786"
             ],
             [
              0.5555555555555556,
              "#d8576b"
             ],
             [
              0.6666666666666666,
              "#ed7953"
             ],
             [
              0.7777777777777778,
              "#fb9f3a"
             ],
             [
              0.8888888888888888,
              "#fdca26"
             ],
             [
              1,
              "#f0f921"
             ]
            ],
            "type": "histogram2d"
           }
          ],
          "histogram2dcontour": [
           {
            "colorbar": {
             "outlinewidth": 0,
             "ticks": ""
            },
            "colorscale": [
             [
              0,
              "#0d0887"
             ],
             [
              0.1111111111111111,
              "#46039f"
             ],
             [
              0.2222222222222222,
              "#7201a8"
             ],
             [
              0.3333333333333333,
              "#9c179e"
             ],
             [
              0.4444444444444444,
              "#bd3786"
             ],
             [
              0.5555555555555556,
              "#d8576b"
             ],
             [
              0.6666666666666666,
              "#ed7953"
             ],
             [
              0.7777777777777778,
              "#fb9f3a"
             ],
             [
              0.8888888888888888,
              "#fdca26"
             ],
             [
              1,
              "#f0f921"
             ]
            ],
            "type": "histogram2dcontour"
           }
          ],
          "mesh3d": [
           {
            "colorbar": {
             "outlinewidth": 0,
             "ticks": ""
            },
            "type": "mesh3d"
           }
          ],
          "parcoords": [
           {
            "line": {
             "colorbar": {
              "outlinewidth": 0,
              "ticks": ""
             }
            },
            "type": "parcoords"
           }
          ],
          "pie": [
           {
            "automargin": true,
            "type": "pie"
           }
          ],
          "scatter": [
           {
            "marker": {
             "colorbar": {
              "outlinewidth": 0,
              "ticks": ""
             }
            },
            "type": "scatter"
           }
          ],
          "scatter3d": [
           {
            "line": {
             "colorbar": {
              "outlinewidth": 0,
              "ticks": ""
             }
            },
            "marker": {
             "colorbar": {
              "outlinewidth": 0,
              "ticks": ""
             }
            },
            "type": "scatter3d"
           }
          ],
          "scattercarpet": [
           {
            "marker": {
             "colorbar": {
              "outlinewidth": 0,
              "ticks": ""
             }
            },
            "type": "scattercarpet"
           }
          ],
          "scattergeo": [
           {
            "marker": {
             "colorbar": {
              "outlinewidth": 0,
              "ticks": ""
             }
            },
            "type": "scattergeo"
           }
          ],
          "scattergl": [
           {
            "marker": {
             "colorbar": {
              "outlinewidth": 0,
              "ticks": ""
             }
            },
            "type": "scattergl"
           }
          ],
          "scattermapbox": [
           {
            "marker": {
             "colorbar": {
              "outlinewidth": 0,
              "ticks": ""
             }
            },
            "type": "scattermapbox"
           }
          ],
          "scatterpolar": [
           {
            "marker": {
             "colorbar": {
              "outlinewidth": 0,
              "ticks": ""
             }
            },
            "type": "scatterpolar"
           }
          ],
          "scatterpolargl": [
           {
            "marker": {
             "colorbar": {
              "outlinewidth": 0,
              "ticks": ""
             }
            },
            "type": "scatterpolargl"
           }
          ],
          "scatterternary": [
           {
            "marker": {
             "colorbar": {
              "outlinewidth": 0,
              "ticks": ""
             }
            },
            "type": "scatterternary"
           }
          ],
          "surface": [
           {
            "colorbar": {
             "outlinewidth": 0,
             "ticks": ""
            },
            "colorscale": [
             [
              0,
              "#0d0887"
             ],
             [
              0.1111111111111111,
              "#46039f"
             ],
             [
              0.2222222222222222,
              "#7201a8"
             ],
             [
              0.3333333333333333,
              "#9c179e"
             ],
             [
              0.4444444444444444,
              "#bd3786"
             ],
             [
              0.5555555555555556,
              "#d8576b"
             ],
             [
              0.6666666666666666,
              "#ed7953"
             ],
             [
              0.7777777777777778,
              "#fb9f3a"
             ],
             [
              0.8888888888888888,
              "#fdca26"
             ],
             [
              1,
              "#f0f921"
             ]
            ],
            "type": "surface"
           }
          ],
          "table": [
           {
            "cells": {
             "fill": {
              "color": "#EBF0F8"
             },
             "line": {
              "color": "white"
             }
            },
            "header": {
             "fill": {
              "color": "#C8D4E3"
             },
             "line": {
              "color": "white"
             }
            },
            "type": "table"
           }
          ]
         },
         "layout": {
          "annotationdefaults": {
           "arrowcolor": "#2a3f5f",
           "arrowhead": 0,
           "arrowwidth": 1
          },
          "coloraxis": {
           "colorbar": {
            "outlinewidth": 0,
            "ticks": ""
           }
          },
          "colorscale": {
           "diverging": [
            [
             0,
             "#8e0152"
            ],
            [
             0.1,
             "#c51b7d"
            ],
            [
             0.2,
             "#de77ae"
            ],
            [
             0.3,
             "#f1b6da"
            ],
            [
             0.4,
             "#fde0ef"
            ],
            [
             0.5,
             "#f7f7f7"
            ],
            [
             0.6,
             "#e6f5d0"
            ],
            [
             0.7,
             "#b8e186"
            ],
            [
             0.8,
             "#7fbc41"
            ],
            [
             0.9,
             "#4d9221"
            ],
            [
             1,
             "#276419"
            ]
           ],
           "sequential": [
            [
             0,
             "#0d0887"
            ],
            [
             0.1111111111111111,
             "#46039f"
            ],
            [
             0.2222222222222222,
             "#7201a8"
            ],
            [
             0.3333333333333333,
             "#9c179e"
            ],
            [
             0.4444444444444444,
             "#bd3786"
            ],
            [
             0.5555555555555556,
             "#d8576b"
            ],
            [
             0.6666666666666666,
             "#ed7953"
            ],
            [
             0.7777777777777778,
             "#fb9f3a"
            ],
            [
             0.8888888888888888,
             "#fdca26"
            ],
            [
             1,
             "#f0f921"
            ]
           ],
           "sequentialminus": [
            [
             0,
             "#0d0887"
            ],
            [
             0.1111111111111111,
             "#46039f"
            ],
            [
             0.2222222222222222,
             "#7201a8"
            ],
            [
             0.3333333333333333,
             "#9c179e"
            ],
            [
             0.4444444444444444,
             "#bd3786"
            ],
            [
             0.5555555555555556,
             "#d8576b"
            ],
            [
             0.6666666666666666,
             "#ed7953"
            ],
            [
             0.7777777777777778,
             "#fb9f3a"
            ],
            [
             0.8888888888888888,
             "#fdca26"
            ],
            [
             1,
             "#f0f921"
            ]
           ]
          },
          "colorway": [
           "#636efa",
           "#EF553B",
           "#00cc96",
           "#ab63fa",
           "#FFA15A",
           "#19d3f3",
           "#FF6692",
           "#B6E880",
           "#FF97FF",
           "#FECB52"
          ],
          "font": {
           "color": "#2a3f5f"
          },
          "geo": {
           "bgcolor": "white",
           "lakecolor": "white",
           "landcolor": "#E5ECF6",
           "showlakes": true,
           "showland": true,
           "subunitcolor": "white"
          },
          "hoverlabel": {
           "align": "left"
          },
          "hovermode": "closest",
          "mapbox": {
           "style": "light"
          },
          "paper_bgcolor": "white",
          "plot_bgcolor": "#E5ECF6",
          "polar": {
           "angularaxis": {
            "gridcolor": "white",
            "linecolor": "white",
            "ticks": ""
           },
           "bgcolor": "#E5ECF6",
           "radialaxis": {
            "gridcolor": "white",
            "linecolor": "white",
            "ticks": ""
           }
          },
          "scene": {
           "xaxis": {
            "backgroundcolor": "#E5ECF6",
            "gridcolor": "white",
            "gridwidth": 2,
            "linecolor": "white",
            "showbackground": true,
            "ticks": "",
            "zerolinecolor": "white"
           },
           "yaxis": {
            "backgroundcolor": "#E5ECF6",
            "gridcolor": "white",
            "gridwidth": 2,
            "linecolor": "white",
            "showbackground": true,
            "ticks": "",
            "zerolinecolor": "white"
           },
           "zaxis": {
            "backgroundcolor": "#E5ECF6",
            "gridcolor": "white",
            "gridwidth": 2,
            "linecolor": "white",
            "showbackground": true,
            "ticks": "",
            "zerolinecolor": "white"
           }
          },
          "shapedefaults": {
           "line": {
            "color": "#2a3f5f"
           }
          },
          "ternary": {
           "aaxis": {
            "gridcolor": "white",
            "linecolor": "white",
            "ticks": ""
           },
           "baxis": {
            "gridcolor": "white",
            "linecolor": "white",
            "ticks": ""
           },
           "bgcolor": "#E5ECF6",
           "caxis": {
            "gridcolor": "white",
            "linecolor": "white",
            "ticks": ""
           }
          },
          "title": {
           "x": 0.05
          },
          "xaxis": {
           "automargin": true,
           "gridcolor": "white",
           "linecolor": "white",
           "ticks": "",
           "title": {
            "standoff": 15
           },
           "zerolinecolor": "white",
           "zerolinewidth": 2
          },
          "yaxis": {
           "automargin": true,
           "gridcolor": "white",
           "linecolor": "white",
           "ticks": "",
           "title": {
            "standoff": 15
           },
           "zerolinecolor": "white",
           "zerolinewidth": 2
          }
         }
        }
       }
      },
      "text/html": [
       "<div>                            <div id=\"221dd2ff-103a-46df-856b-4e8fd51fa8a5\" class=\"plotly-graph-div\" style=\"height:525px; width:100%;\"></div>            <script type=\"text/javascript\">                require([\"plotly\"], function(Plotly) {                    window.PLOTLYENV=window.PLOTLYENV || {};                                    if (document.getElementById(\"221dd2ff-103a-46df-856b-4e8fd51fa8a5\")) {                    Plotly.newPlot(                        \"221dd2ff-103a-46df-856b-4e8fd51fa8a5\",                        [{\"coloraxis\": \"coloraxis\", \"hovertemplate\": \"Lat=%{lat}<br>Long=%{lon}<extra></extra>\", \"lat\": [33.93911, 41.1533, 28.0339, 42.5063, -11.2027, 17.0608, -38.4161, 40.0691, -35.4735, -33.8688, -12.4634, -27.4698, -34.9285, -42.8821, -37.8136, -31.9505, 47.5162, 40.1431, 25.025885, 26.0275, 23.685, 13.1939, 53.7098, 50.8333, 9.3077, 27.5142, -16.2902, 43.9159, -14.235, 4.5353, 42.7339, 12.2383, 16.5388, 11.55, 3.8480000000000003, 53.9333, 53.7267, 53.7609, 46.5653, 53.1355, 44.681999999999995, 51.2538, 46.5107, 52.9399, 52.9399, 6.6111, 15.4542, -35.6751, 31.8257, 40.1824, 30.0572, 26.0789, 35.7518, 23.3417, 23.8298, 26.8154, 19.1959, 39.549, 47.861999999999995, 37.8957, 22.3, 30.9756, 27.6104, 44.0935, 32.9711, 27.614, 43.6661, 41.2956, 22.1667, 37.2692, 35.7452, 35.1917, 36.3427, 31.201999999999998, 37.5777, 30.6171, 39.3054, 31.6927, 41.1129, 24.974, 29.1832, 4.5709, -0.228, -4.0383, 9.7489, 7.54, 45.1, 21.521757, 35.1264, 49.8175, 61.8926, 71.7069, 56.2639, 11.8251, 18.7357, -1.8312, 26.820553000000004, 13.7942, 1.6508, 15.1794, 58.5953, -26.5225, 9.145, -17.7134, 61.92411, 3.9339, -17.6797, 16.265, -12.8275, -20.904304999999997, -21.1151, 17.9, 18.0708, 14.6415, 46.2276, -0.8037, 13.4432, 42.3154, 51.165690999999995, 7.9465, 39.0742, 15.7835, 9.9456, 4.860416000000001, 18.9712, 41.9029, 15.2, 47.1625, 64.9631, 20.593684, -0.7893, 32.427908, 33.223191, 53.1424, 31.046051000000002, 41.87194, 18.1096, 36.204824, 31.24, 48.0196, -0.0236, 35.907757000000004, 29.311659999999996, 41.20438, 56.8796, 33.8547, 6.4280550000000005, 47.14, 55.1694, 49.8153, -18.766947000000002, 4.210483999999999, 3.2028, 35.9375, 21.0079, -20.348404000000002, 23.6345, 47.4116, 43.7333, 46.8625, 42.708678000000006, 31.7917, -22.9576, 28.1667, 12.5211, 12.1696, 18.0425, 52.1326, -40.9006, 12.865416, 17.607789, 9.082, 41.6086, 60.472, 21.512583, 30.3753, 8.538, -6.314993, -23.4425, -9.19, 12.879721, 51.9194, 39.3999, 25.3548, 45.9432, 61.52401, -1.9403, 13.9094, 12.9843, 43.9424, 23.885942, 14.4974, 44.0165, -4.6796, 1.2833, 48.669, 46.1512, 5.152149, -30.5595, 40.463667, 7.873054, 12.8628, 3.9193, 60.128161, 46.8182, 23.7, -6.369028, 15.870032, 8.6195, 10.6918, 33.886917, 38.9637, 1.373333, 48.3794, 23.424076, 32.3078, 19.3133, 49.3723, 36.1408, 54.2361, 16.742498, 55.3781, -32.5228, 40.0, 41.377491, 6.4238, 14.058323999999999, -13.133897, -19.015438, 15.415, 12.1165, -18.665695, 34.802075, -8.874217, 17.1899, 19.856270000000002, 26.3351, 31.9522, 11.8037, 17.570692, 17.357822, 64.8255, 64.2823, 42.602636, 21.9162, 18.2206, 18.4207, 21.694000000000003, -22.3285, -3.3731, 8.460555000000001, 12.1784, -13.2543, -51.7963, 46.8852, 6.877000000000001, 24.2155, 0.1864, 15.552726999999999, -11.6455, 38.861, -29.61], \"lon\": [67.709953, 20.1683, 1.6596, 1.5218, 17.8739, -61.7964, -63.6167, 45.0382, 149.0124, 151.2093, 130.8456, 153.0251, 138.6007, 147.3272, 144.9631, 115.8605, 14.5501, 47.5769, -78.035889, 50.55, 90.3563, -59.5432, 27.9534, 4.469936, 2.3158, 90.4336, -63.5887, 17.6791, -51.9253, 114.7277, 25.4858, -1.5616, -23.0418, 104.9167, 11.5021, -116.5765, -127.6476, -98.8139, -66.4619, -57.6604, -63.7443, -85.3232, -63.4168, -73.5491, -106.4509, 20.9394, 18.7322, -71.543, 117.2264, 116.4142, 107.874, 117.9874, 104.2861, 113.4244, 108.7881, 106.8748, 109.7453, 116.1306, 127.7615, 114.9042, 114.2, 112.2707, 111.7088, 113.9448, 119.455, 115.7221, 126.1923, 122.6085, 113.55, 106.1655, 95.9956, 108.8701, 118.1498, 121.4491, 112.2922, 102.7103, 117.323, 88.0924, 85.2401, 101.48700000000001, 120.0934, -74.2973, 15.8277, 21.7587, -83.7534, -5.5471, 15.2, -77.78116700000001, 33.4299, 15.472999999999999, -6.9118, -42.6043, 9.5018, 42.5903, -70.1627, -78.1834, 30.802497999999996, -88.8965, 10.2679, 39.7823, 25.0136, 31.4659, 40.4897, 178.065, 25.748151, -53.1258, 149.4068, -61.551, 45.166244, 165.618042, 55.5364, -62.8333, -63.0501, -61.0242, 2.2137, 11.6094, -15.3101, 43.3569, 10.451526, -1.0232, 21.8243, -90.2308, -9.6966, -58.93018000000001, -72.2852, 12.4534, -86.2419, 19.5033, -19.0208, 78.96288, 113.9213, 53.68804599999999, 43.679291, -7.6921, 34.851612, 12.56738, -77.2975, 138.252924, 36.51, 66.9237, 37.9062, 127.766922, 47.481766, 74.766098, 24.6032, 35.8623, -9.429499, 9.55, 23.8813, 6.1296, 46.869107, 101.97576600000001, 73.2207, 14.3754, -10.9408, 57.552152, -102.5528, 28.3699, 7.4167, 103.8467, 19.37439, -7.0926, 18.4904, 84.25, -69.9683, -68.99, -63.0548, 5.2913, 174.886, -85.207229, 8.081666, 8.6753, 21.7453, 8.4689, 55.923255000000005, 69.3451, -80.7821, 143.95555, -58.4438, -75.0152, 121.77401699999999, 19.1451, -8.2245, 51.1839, 24.9668, 105.31875600000001, 29.8739, -60.9789, -61.2872, 12.4578, 45.079162, -14.4524, 21.0059, 55.492, 103.8333, 19.699, 14.9955, 46.199616, 22.9375, -3.7492199999999998, 80.77179699999999, 30.2176, -56.0278, 18.643501, 8.2275, 121.0, 34.888822, 100.992541, 0.8248, -61.2225, 9.537499, 35.2433, 32.290275, 31.1656, 53.847818000000004, -64.7505, -81.2546, -2.3644, -5.3536, -4.5481, -62.187366000000004, -3.4360000000000004, -55.7658, -100.0, 64.585262, -66.5897, 108.277199, 27.849332, 29.154857, -61.371, -61.678999999999995, 35.529562, 38.996815000000005, 125.727539, -88.4976, 102.495496, 17.228331, 35.2332, -15.1804, -3.9961660000000006, -62.782998, -124.8457, -135.0, 20.902977, 95.956, -63.0686, -64.64, -71.7979, 24.6849, 29.9189, -11.779889, -68.2385, 34.3015, -59.5236, -56.3159, 31.307, -12.8858, 6.6131, 48.516388, 43.3333, 71.2761, 28.2336], \"name\": \"\", \"radius\": [5.104504805456076, 5.015031435043377, 5.086606711900162, 5.002632994498593, 5.003268446634077, 5.00025646050311, 5.545123896726643, 5.109847732604196, 5.0003191508483145, 5.010748544641444, 5.000091185956661, 5.003086074720754, 5.001282302515548, 5.000649699941212, 5.031145703322106, 5.001894958161866, 5.060208377446732, 5.090835460640327, 5.001632798536465, 5.116777865310451, 5.677226701878475, 5.000310602164878, 5.19322019260403, 5.195907328764391, 5.005140608306777, 5.000284956114567, 5.218812101253237, 5.033838538604758, 12.586910957351714, 5.000398938560393, 5.033308520231665, 5.0031487650659585, 5.0069814248068765, 5.000678195552668, 5.049166328007284, 5.030894941941288, 5.0103724025702165, 5.0011797183143045, 5.000481575833617, 5.000755133703601, 5.003043331303569, 5.117336379295001, 5.000099734640099, 5.16901032111047, 5.003755721589985, 5.013127928198074, 5.002664339671195, 6.013492014433685, 5.002821065534207, 5.002655790987759, 5.001658444586776, 5.001040089818168, 5.00047302715018, 5.00478441316357, 5.0007237885309985, 5.000416035927267, 5.000484425394763, 5.000991647278691, 5.002695684843798, 5.003633190460722, 5.009320914507467, 5.194151999098662, 5.0029008532462855, 5.000732337214435, 5.001863612989264, 5.002652941426613, 5.000444531538723, 5.000683894674959, 5.000128230251555, 5.000210867524779, 5.000048442539477, 5.00092040825005, 5.0022739497942394, 5.002128622175811, 5.000569912229133, 5.001718285370836, 5.000581310473716, 5.0, 5.0018180200109335, 5.0005414166176765, 5.003616093093847, 5.8420652654716925, 5.009115746104979, 5.025842670030025, 5.0507763300545845, 5.045724058143322, 5.014641045166421, 5.007428805906746, 5.003171561555124, 5.047225776867087, 5.000638301696629, 5.000037044294894, 5.0392897490764135, 5.01448431930341, 5.198466234673197, 5.243221442026994, 5.268078163900619, 5.047391051413536, 5.0137348847220995, 5.000792177998495, 5.005878644643505, 5.0075427883525725, 5.049949957322342, 5.000074088589788, 5.021175088873428, 5.022220877813887, 5.000173823229885, 5.000752284142456, 5.008437550552311, 5.000059840784059, 5.001877860794992, 5.0000199469280195, 5.000148177179574, 5.000763682387038, 5.607218683651805, 5.020947123981775, 5.001416231889395, 5.00332543785699, 5.599541965925386, 5.101159420671067, 5.012754635687991, 5.141873950320313, 5.020821743291366, 5.001174019192013, 5.021152292384263, 5.000031345172602, 5.119718612412776, 5.01283442340007, 5.005368573198431, 9.832818658751023, 5.308821189161321, 5.866845049194385, 5.355078115238883, 5.0742709617005834, 5.202230504946619, 5.705368967753051, 5.002499065124748, 5.103248148990839, 5.0033966768856315, 5.257503442489061, 5.058800694240774, 5.040848459023091, 5.19079521606907, 5.102025687259349, 5.003504960209167, 5.012976901457353, 5.003376729957612, 5.000247911819673, 5.005909989816107, 5.019074962309074, 5.030966180969929, 5.0255748112823335, 5.010805535864358, 5.002345188822881, 5.017977881267993, 5.000977399472963, 6.210026246650122, 5.070475346254558, 5.000339097776334, 5.000826372732242, 5.008753851839479, 5.069304176623691, 5.006063866117973, 5.056335823849775, 5.000341947337479, 5.000079787712078, 5.0003618942655, 5.154731170209548, 5.004448164948381, 5.010460738965732, 5.003228552778038, 5.122958563435396, 5.030641330999323, 5.026327095424788, 5.225565561168461, 5.793044265082837, 5.185948112560296, 5.0002023188413425, 5.015208107834408, 6.1611705208077145, 5.266015081631159, 5.130187900061945, 5.145529937270199, 5.315429321458116, 5.144999918897106, 7.389243038193325, 5.005758963075387, 5.000068389467496, 5.0001510267407205, 5.0019889936796735, 5.786205318333243, 5.029153860081287, 5.072809136832857, 5.00032200040946, 5.148758490048237, 5.006528344584716, 5.006140804268906, 5.009149940838727, 6.405352264940797, 5.822158231308085, 5.008018665063898, 5.033177440418965, 5.004698926329199, 5.229164556895434, 5.100392888722884, 5.00132789549388, 5.001447577061997, 5.009429197831002, 5.002678587476924, 5.000478726272472, 5.004371226797448, 5.657883880821708, 5.00328554400095, 5.203467214483837, 5.172412697118392, 5.000441681977578, 5.000575611351424, 5.001669842831359, 5.000530018373094, 5.000954602983797, 5.000031345172602, 5.863929948142371, 5.003598995726973, 18.0, 5.068412263985098, 5.052924899158415, 5.001587205558135, 5.016989083550448, 5.009027409709463, 5.000048442539477, 5.00006553990635, 5.005308732414372, 5.002154268226122, 5.00006553990635, 5.000133929373846, 5.000054141661767, 5.010315411347303, 5.033727405720078, 5.005642131068415, 5.007220787943112, 5.0000455929783305, 5.000011398244583, 5.000037044294894, 5.023089993963314, 5.001003045523274, 5.000005699122291, 5.0000199469280195, 5.00030205348144, 5.0022881975999685, 5.001099930602226, 5.005191900407399, 5.000028495611456, 5.011617660790872, 5.000034194733748, 5.000008548683437, 5.006613831419086, 5.000025646050311, 5.002479118196727, 5.0049211920985615, 5.001074284551915, 5.021109548967078, 5.001718285370836], \"subplot\": \"mapbox\", \"type\": \"densitymapbox\"}],                        {\"coloraxis\": {\"colorscale\": [[0.0, \"#0d0887\"], [0.1111111111111111, \"#46039f\"], [0.2222222222222222, \"#7201a8\"], [0.3333333333333333, \"#9c179e\"], [0.4444444444444444, \"#bd3786\"], [0.5555555555555556, \"#d8576b\"], [0.6666666666666666, \"#ed7953\"], [0.7777777777777778, \"#fb9f3a\"], [0.8888888888888888, \"#fdca26\"], [1.0, \"#f0f921\"]]}, \"legend\": {\"tracegroupgap\": 0}, \"mapbox\": {\"center\": {\"lat\": 21.398404770992368, \"lon\": 23.177981732824424}, \"domain\": {\"x\": [0.0, 1.0], \"y\": [0.0, 1.0]}, \"style\": \"stamen-watercolor\", \"zoom\": 0}, \"margin\": {\"t\": 60}, \"template\": {\"data\": {\"bar\": [{\"error_x\": {\"color\": \"#2a3f5f\"}, \"error_y\": {\"color\": \"#2a3f5f\"}, \"marker\": {\"line\": {\"color\": \"#E5ECF6\", \"width\": 0.5}}, \"type\": \"bar\"}], \"barpolar\": [{\"marker\": {\"line\": {\"color\": \"#E5ECF6\", \"width\": 0.5}}, \"type\": \"barpolar\"}], \"carpet\": [{\"aaxis\": {\"endlinecolor\": \"#2a3f5f\", \"gridcolor\": \"white\", \"linecolor\": \"white\", \"minorgridcolor\": \"white\", \"startlinecolor\": \"#2a3f5f\"}, \"baxis\": {\"endlinecolor\": \"#2a3f5f\", \"gridcolor\": \"white\", \"linecolor\": \"white\", \"minorgridcolor\": \"white\", \"startlinecolor\": \"#2a3f5f\"}, \"type\": \"carpet\"}], \"choropleth\": [{\"colorbar\": {\"outlinewidth\": 0, \"ticks\": \"\"}, \"type\": \"choropleth\"}], \"contour\": [{\"colorbar\": {\"outlinewidth\": 0, \"ticks\": \"\"}, \"colorscale\": [[0.0, \"#0d0887\"], [0.1111111111111111, \"#46039f\"], [0.2222222222222222, \"#7201a8\"], [0.3333333333333333, \"#9c179e\"], [0.4444444444444444, \"#bd3786\"], [0.5555555555555556, \"#d8576b\"], [0.6666666666666666, \"#ed7953\"], [0.7777777777777778, \"#fb9f3a\"], [0.8888888888888888, \"#fdca26\"], [1.0, \"#f0f921\"]], \"type\": \"contour\"}], \"contourcarpet\": [{\"colorbar\": {\"outlinewidth\": 0, \"ticks\": \"\"}, \"type\": \"contourcarpet\"}], \"heatmap\": [{\"colorbar\": {\"outlinewidth\": 0, \"ticks\": \"\"}, \"colorscale\": [[0.0, \"#0d0887\"], [0.1111111111111111, \"#46039f\"], [0.2222222222222222, \"#7201a8\"], [0.3333333333333333, \"#9c179e\"], [0.4444444444444444, \"#bd3786\"], [0.5555555555555556, \"#d8576b\"], [0.6666666666666666, \"#ed7953\"], [0.7777777777777778, \"#fb9f3a\"], [0.8888888888888888, \"#fdca26\"], [1.0, \"#f0f921\"]], \"type\": \"heatmap\"}], \"heatmapgl\": [{\"colorbar\": {\"outlinewidth\": 0, \"ticks\": \"\"}, \"colorscale\": [[0.0, \"#0d0887\"], [0.1111111111111111, \"#46039f\"], [0.2222222222222222, \"#7201a8\"], [0.3333333333333333, \"#9c179e\"], [0.4444444444444444, \"#bd3786\"], [0.5555555555555556, \"#d8576b\"], [0.6666666666666666, \"#ed7953\"], [0.7777777777777778, \"#fb9f3a\"], [0.8888888888888888, \"#fdca26\"], [1.0, \"#f0f921\"]], \"type\": \"heatmapgl\"}], \"histogram\": [{\"marker\": {\"colorbar\": {\"outlinewidth\": 0, \"ticks\": \"\"}}, \"type\": \"histogram\"}], \"histogram2d\": [{\"colorbar\": {\"outlinewidth\": 0, \"ticks\": \"\"}, \"colorscale\": [[0.0, \"#0d0887\"], [0.1111111111111111, \"#46039f\"], [0.2222222222222222, \"#7201a8\"], [0.3333333333333333, \"#9c179e\"], [0.4444444444444444, \"#bd3786\"], [0.5555555555555556, \"#d8576b\"], [0.6666666666666666, \"#ed7953\"], [0.7777777777777778, \"#fb9f3a\"], [0.8888888888888888, \"#fdca26\"], [1.0, \"#f0f921\"]], \"type\": \"histogram2d\"}], \"histogram2dcontour\": [{\"colorbar\": {\"outlinewidth\": 0, \"ticks\": \"\"}, \"colorscale\": [[0.0, \"#0d0887\"], [0.1111111111111111, \"#46039f\"], [0.2222222222222222, \"#7201a8\"], [0.3333333333333333, \"#9c179e\"], [0.4444444444444444, \"#bd3786\"], [0.5555555555555556, \"#d8576b\"], [0.6666666666666666, \"#ed7953\"], [0.7777777777777778, \"#fb9f3a\"], [0.8888888888888888, \"#fdca26\"], [1.0, \"#f0f921\"]], \"type\": \"histogram2dcontour\"}], \"mesh3d\": [{\"colorbar\": {\"outlinewidth\": 0, \"ticks\": \"\"}, \"type\": \"mesh3d\"}], \"parcoords\": [{\"line\": {\"colorbar\": {\"outlinewidth\": 0, \"ticks\": \"\"}}, \"type\": \"parcoords\"}], \"pie\": [{\"automargin\": true, \"type\": \"pie\"}], \"scatter\": [{\"marker\": {\"colorbar\": {\"outlinewidth\": 0, \"ticks\": \"\"}}, \"type\": \"scatter\"}], \"scatter3d\": [{\"line\": {\"colorbar\": {\"outlinewidth\": 0, \"ticks\": \"\"}}, \"marker\": {\"colorbar\": {\"outlinewidth\": 0, \"ticks\": \"\"}}, \"type\": \"scatter3d\"}], \"scattercarpet\": [{\"marker\": {\"colorbar\": {\"outlinewidth\": 0, \"ticks\": \"\"}}, \"type\": \"scattercarpet\"}], \"scattergeo\": [{\"marker\": {\"colorbar\": {\"outlinewidth\": 0, \"ticks\": \"\"}}, \"type\": \"scattergeo\"}], \"scattergl\": [{\"marker\": {\"colorbar\": {\"outlinewidth\": 0, \"ticks\": \"\"}}, \"type\": \"scattergl\"}], \"scattermapbox\": [{\"marker\": {\"colorbar\": {\"outlinewidth\": 0, \"ticks\": \"\"}}, \"type\": \"scattermapbox\"}], \"scatterpolar\": [{\"marker\": {\"colorbar\": {\"outlinewidth\": 0, \"ticks\": \"\"}}, \"type\": \"scatterpolar\"}], \"scatterpolargl\": [{\"marker\": {\"colorbar\": {\"outlinewidth\": 0, \"ticks\": \"\"}}, \"type\": \"scatterpolargl\"}], \"scatterternary\": [{\"marker\": {\"colorbar\": {\"outlinewidth\": 0, \"ticks\": \"\"}}, \"type\": \"scatterternary\"}], \"surface\": [{\"colorbar\": {\"outlinewidth\": 0, \"ticks\": \"\"}, \"colorscale\": [[0.0, \"#0d0887\"], [0.1111111111111111, \"#46039f\"], [0.2222222222222222, \"#7201a8\"], [0.3333333333333333, \"#9c179e\"], [0.4444444444444444, \"#bd3786\"], [0.5555555555555556, \"#d8576b\"], [0.6666666666666666, \"#ed7953\"], [0.7777777777777778, \"#fb9f3a\"], [0.8888888888888888, \"#fdca26\"], [1.0, \"#f0f921\"]], \"type\": \"surface\"}], \"table\": [{\"cells\": {\"fill\": {\"color\": \"#EBF0F8\"}, \"line\": {\"color\": \"white\"}}, \"header\": {\"fill\": {\"color\": \"#C8D4E3\"}, \"line\": {\"color\": \"white\"}}, \"type\": \"table\"}]}, \"layout\": {\"annotationdefaults\": {\"arrowcolor\": \"#2a3f5f\", \"arrowhead\": 0, \"arrowwidth\": 1}, \"coloraxis\": {\"colorbar\": {\"outlinewidth\": 0, \"ticks\": \"\"}}, \"colorscale\": {\"diverging\": [[0, \"#8e0152\"], [0.1, \"#c51b7d\"], [0.2, \"#de77ae\"], [0.3, \"#f1b6da\"], [0.4, \"#fde0ef\"], [0.5, \"#f7f7f7\"], [0.6, \"#e6f5d0\"], [0.7, \"#b8e186\"], [0.8, \"#7fbc41\"], [0.9, \"#4d9221\"], [1, \"#276419\"]], \"sequential\": [[0.0, \"#0d0887\"], [0.1111111111111111, \"#46039f\"], [0.2222222222222222, \"#7201a8\"], [0.3333333333333333, \"#9c179e\"], [0.4444444444444444, \"#bd3786\"], [0.5555555555555556, \"#d8576b\"], [0.6666666666666666, \"#ed7953\"], [0.7777777777777778, \"#fb9f3a\"], [0.8888888888888888, \"#fdca26\"], [1.0, \"#f0f921\"]], \"sequentialminus\": [[0.0, \"#0d0887\"], [0.1111111111111111, \"#46039f\"], [0.2222222222222222, \"#7201a8\"], [0.3333333333333333, \"#9c179e\"], [0.4444444444444444, \"#bd3786\"], [0.5555555555555556, \"#d8576b\"], [0.6666666666666666, \"#ed7953\"], [0.7777777777777778, \"#fb9f3a\"], [0.8888888888888888, \"#fdca26\"], [1.0, \"#f0f921\"]]}, \"colorway\": [\"#636efa\", \"#EF553B\", \"#00cc96\", \"#ab63fa\", \"#FFA15A\", \"#19d3f3\", \"#FF6692\", \"#B6E880\", \"#FF97FF\", \"#FECB52\"], \"font\": {\"color\": \"#2a3f5f\"}, \"geo\": {\"bgcolor\": \"white\", \"lakecolor\": \"white\", \"landcolor\": \"#E5ECF6\", \"showlakes\": true, \"showland\": true, \"subunitcolor\": \"white\"}, \"hoverlabel\": {\"align\": \"left\"}, \"hovermode\": \"closest\", \"mapbox\": {\"style\": \"light\"}, \"paper_bgcolor\": \"white\", \"plot_bgcolor\": \"#E5ECF6\", \"polar\": {\"angularaxis\": {\"gridcolor\": \"white\", \"linecolor\": \"white\", \"ticks\": \"\"}, \"bgcolor\": \"#E5ECF6\", \"radialaxis\": {\"gridcolor\": \"white\", \"linecolor\": \"white\", \"ticks\": \"\"}}, \"scene\": {\"xaxis\": {\"backgroundcolor\": \"#E5ECF6\", \"gridcolor\": \"white\", \"gridwidth\": 2, \"linecolor\": \"white\", \"showbackground\": true, \"ticks\": \"\", \"zerolinecolor\": \"white\"}, \"yaxis\": {\"backgroundcolor\": \"#E5ECF6\", \"gridcolor\": \"white\", \"gridwidth\": 2, \"linecolor\": \"white\", \"showbackground\": true, \"ticks\": \"\", \"zerolinecolor\": \"white\"}, \"zaxis\": {\"backgroundcolor\": \"#E5ECF6\", \"gridcolor\": \"white\", \"gridwidth\": 2, \"linecolor\": \"white\", \"showbackground\": true, \"ticks\": \"\", \"zerolinecolor\": \"white\"}}, \"shapedefaults\": {\"line\": {\"color\": \"#2a3f5f\"}}, \"ternary\": {\"aaxis\": {\"gridcolor\": \"white\", \"linecolor\": \"white\", \"ticks\": \"\"}, \"baxis\": {\"gridcolor\": \"white\", \"linecolor\": \"white\", \"ticks\": \"\"}, \"bgcolor\": \"#E5ECF6\", \"caxis\": {\"gridcolor\": \"white\", \"linecolor\": \"white\", \"ticks\": \"\"}}, \"title\": {\"x\": 0.05}, \"xaxis\": {\"automargin\": true, \"gridcolor\": \"white\", \"linecolor\": \"white\", \"ticks\": \"\", \"title\": {\"standoff\": 15}, \"zerolinecolor\": \"white\", \"zerolinewidth\": 2}, \"yaxis\": {\"automargin\": true, \"gridcolor\": \"white\", \"linecolor\": \"white\", \"ticks\": \"\", \"title\": {\"standoff\": 15}, \"zerolinecolor\": \"white\", \"zerolinewidth\": 2}}}},                        {\"responsive\": true}                    ).then(function(){\n",
       "                            \n",
       "var gd = document.getElementById('221dd2ff-103a-46df-856b-4e8fd51fa8a5');\n",
       "var x = new MutationObserver(function (mutations, observer) {{\n",
       "        var display = window.getComputedStyle(gd).display;\n",
       "        if (!display || display === 'none') {{\n",
       "            console.log([gd, 'removed!']);\n",
       "            Plotly.purge(gd);\n",
       "            observer.disconnect();\n",
       "        }}\n",
       "}});\n",
       "\n",
       "// Listen for the removal of the full notebook cells\n",
       "var notebookContainer = gd.closest('#notebook-container');\n",
       "if (notebookContainer) {{\n",
       "    x.observe(notebookContainer, {childList: true});\n",
       "}}\n",
       "\n",
       "// Listen for the clearing of the current output cell\n",
       "var outputEl = gd.closest('.output');\n",
       "if (outputEl) {{\n",
       "    x.observe(outputEl, {childList: true});\n",
       "}}\n",
       "\n",
       "                        })                };                });            </script>        </div>"
      ]
     },
     "metadata": {},
     "output_type": "display_data"
    }
   ],
   "source": [
    "df = pd.read_csv('COVID-19.csv')\n",
    "# Interpolating circle to given circle range\n",
    "list1 = df.cases.values.tolist()\n",
    "m = interp1d([1, max(list1)], [5, 18])\n",
    "circle_radius = m(list1)\n",
    "typeLists = ['stamen-watercolor']\n",
    "# 'open-street-map', 'carto-darkmatter', 'carto-positron', 'stamen-terrain', \n",
    "#              'stamen-toner', \n",
    "for i in typeLists:\n",
    "    fig = px.density_mapbox(df, lat='Lat', lon='Long', radius=circle_radius, zoom=0, mapbox_style=i)\n",
    "    fig.show()\n"
   ]
  },
  {
   "cell_type": "markdown",
   "metadata": {},
   "source": [
    "<h2> Total cases and Deaths in India </h2>"
   ]
  },
  {
   "cell_type": "code",
   "execution_count": 61,
   "metadata": {},
   "outputs": [],
   "source": [
    "wb = load_workbook(\"D:\\owid-covid-data.xlsx\")  # Work Book\n",
    "ws = wb[wb.sheetnames[0]]\n",
    "dataCol = \"a b c d e f g h i j k l m n o p q r s t u v w x y z aa ab ac ad ae af ag ah ai aj ak al am an ao ap aq ar as at au av aw ax\".upper().split(\" \")\n",
    "dataS5 = {}\n",
    "for X in dataCol:\n",
    "    column = ws[X]\n",
    "    columnDate = ws['D']\n",
    "    sample = []\n",
    "    for x in range(1,len(columnDate)):\n",
    "          sample.append(column[x].value)\n",
    "    dataS5[column[0].value] = sample    \n",
    "# print(dataS5)    "
   ]
  },
  {
   "cell_type": "code",
   "execution_count": 47,
   "metadata": {},
   "outputs": [
    {
     "data": {
      "image/png": "[encoded data removed]",
      "text/plain": [
       "<Figure size 432x288 with 1 Axes>"
      ]
     },
     "metadata": {
      "needs_background": "light"
     },
     "output_type": "display_data"
    },
    {
     "data": {
      "image/png": "[encoded data removed]",
      "text/plain": [
       "<Figure size 432x288 with 1 Axes>"
      ]
     },
     "metadata": {
      "needs_background": "light"
     },
     "output_type": "display_data"
    }
   ],
   "source": [
    "def dailyCasesPlotter(code,key):\n",
    "    iso_codes = dataS5['iso_code']\n",
    "    date = dataS5['date']\n",
    "    total_cases = dataS5[key]\n",
    "    total_cases_IND = []\n",
    "    date_IND = []\n",
    "    \n",
    "    for x in range(len(iso_codes)):\n",
    "        if iso_codes[x] == code:\n",
    "            total_cases_IND.append(total_cases[x])\n",
    "            date_IND.append(date[x])\n",
    "    pyplot.plot(date_IND,total_cases_IND)\n",
    "    pyplot.title(\"Country : \" + code)\n",
    "    pyplot.xlabel(\"Days\")\n",
    "    pyplot.ylabel(key)\n",
    "    pyplot.show()\n",
    "\n",
    "countriesToLookFor = ['IND']\n",
    "for C in countriesToLookFor:    \n",
    "    dailyCasesPlotter(C,'total_cases')\n",
    "    dailyCasesPlotter(C,'total_deaths')"
   ]
  },
  {
   "cell_type": "markdown",
   "metadata": {},
   "source": [
    "<H1> Hypothesis </H1>"
   ]
  },
  {
   "cell_type": "markdown",
   "metadata": {},
   "source": [
    "<h2> Cases Across Different Countries :</h2>"
   ]
  },
  {
   "cell_type": "code",
   "execution_count": 49,
   "metadata": {},
   "outputs": [
    {
     "data": {
      "image/png": "[encoded data removed]",
      "text/plain": [
       "<Figure size 432x288 with 1 Axes>"
      ]
     },
     "metadata": {
      "needs_background": "light"
     },
     "output_type": "display_data"
    },
    {
     "data": {
      "image/png": "[encoded data removed]",
      "text/plain": [
       "<Figure size 432x288 with 1 Axes>"
      ]
     },
     "metadata": {
      "needs_background": "light"
     },
     "output_type": "display_data"
    }
   ],
   "source": [
    "def dailyCasesPlotter(code,key):\n",
    "    iso_codes = dataS5['iso_code']\n",
    "    date = dataS5['date']\n",
    "    total_cases = dataS5[key]\n",
    "    total_cases_IND = []\n",
    "    date_IND = []\n",
    "    for x in range(len(iso_codes)):\n",
    "        if iso_codes[x] == code:\n",
    "            total_cases_IND.append(total_cases[x])\n",
    "            date_IND.append(date[x])\n",
    "    pyplot.plot(date_IND,total_cases_IND)\n",
    "    pyplot.title(\"Country : \" + code)\n",
    "    pyplot.xlabel(\"Days\")\n",
    "    pyplot.ylabel(key)\n",
    "    pyplot.show()\n",
    "\n",
    "countriesToLookFor = ['IND','USA']\n",
    "for C in countriesToLookFor:    \n",
    "    dailyCasesPlotter(C,'total_cases')\n"
   ]
  },
  {
   "cell_type": "code",
   "execution_count": 60,
   "metadata": {},
   "outputs": [
    {
     "data": {
      "image/png": "[encoded data removed]",
      "text/plain": [
       "<Figure size 432x288 with 1 Axes>"
      ]
     },
     "metadata": {
      "needs_background": "light"
     },
     "output_type": "display_data"
    }
   ],
   "source": [
    "def dailyCasescomparison(code,key):\n",
    "    iso_codes = dataS5['iso_code']\n",
    "    date = dataS5['date']\n",
    "    total_cases = dataS5[key]\n",
    "    total_cases_IND = []\n",
    "    date_IND = []\n",
    "    for x in range(len(iso_codes)):\n",
    "        if iso_codes[x] == code:\n",
    "            if total_cases[x]!= None:\n",
    "                total_cases_IND.append(total_cases[x])\n",
    "            else:\n",
    "                total_cases_IND.append(0)\n",
    "            date_IND.append(date[x])\n",
    "#     print(total_cases_IND)        \n",
    "    return total_cases_IND\n",
    "\n",
    "data=[]\n",
    "countriesToLookFor = ['IND','USA']\n",
    "for C in countriesToLookFor:    \n",
    "    data.append(dailyCasescomparison(C,'new_cases'))\n",
    "    \n",
    "pyplot.boxplot(data)\n",
    "pyplot.show()\n"
   ]
  },
  {
   "cell_type": "markdown",
   "metadata": {},
   "source": [
    "<h2> Age Groups </h2>"
   ]
  },
  {
   "cell_type": "code",
   "execution_count": 68,
   "metadata": {},
   "outputs": [
    {
     "data": {
      "text/plain": [
       "([<matplotlib.patches.Wedge at 0x26ae5f78f40>,\n",
       "  <matplotlib.patches.Wedge at 0x26ae5f42460>,\n",
       "  <matplotlib.patches.Wedge at 0x26ae5f428e0>,\n",
       "  <matplotlib.patches.Wedge at 0x26ae5f42d60>,\n",
       "  <matplotlib.patches.Wedge at 0x26ae5f5a220>,\n",
       "  <matplotlib.patches.Wedge at 0x26ae5f5a6a0>],\n",
       " [Text(1.099864295735893, 0.017278048656840017, 'Less than 14 years'),\n",
       "  Text(1.0933570509441903, 0.12070774271198717, '15-29 years'),\n",
       "  Text(0.9397051872092018, 0.5717990566030334, '30-44 years'),\n",
       "  Text(-0.4652279531565006, 0.9967762796143441, '45-59 years'),\n",
       "  Text(-0.36610163557183434, -1.0372895412716876, '60-74 years'),\n",
       "  Text(1.042912059127538, -0.34976340135348516, 'More than 75 years')])"
      ]
     },
     "execution_count": 68,
     "metadata": {},
     "output_type": "execute_result"
    },
    {
     "data": {
      "image/png": "[encoded data removed]",
      "text/plain": [
       "<Figure size 432x288 with 1 Axes>"
      ]
     },
     "metadata": {},
     "output_type": "display_data"
    }
   ],
   "source": [
    "wbAge = load_workbook(\"D:\\statistic_id1110522_number-of-covid-19-cases-india-2020-by-age-group.xlsx\")  # Work Book\n",
    "wsAge = wbAge[wbAge.sheetnames[1]]\n",
    "\n",
    "ageGroup = []\n",
    "percentage = []\n",
    "\n",
    "colAge = wsAge['B']\n",
    "colPer = wsAge['C']\n",
    "\n",
    "for x in range(5,11):\n",
    "    ageGroup.append(colAge[x].value)\n",
    "    percentage.append(colPer[x].value)\n",
    "pyplot.title(\"Number of the coronavirus (COVID-19) cases in India as of July 9, 2020, by age group\")\n",
    "pyplot.pie(percentage, labels = ageGroup) \n",
    "    \n",
    "\n"
   ]
  },
  {
   "cell_type": "markdown",
   "metadata": {},
   "source": [
    "<h2> Diseases : </h2>"
   ]
  },
  {
   "cell_type": "code",
   "execution_count": 103,
   "metadata": {},
   "outputs": [
    {
     "data": {
      "image/png": "[encoded data removed]",
      "text/plain": [
       "<Figure size 432x288 with 1 Axes>"
      ]
     },
     "metadata": {
      "needs_background": "light"
     },
     "output_type": "display_data"
    },
    {
     "data": {
      "image/png": "[encoded data removed]",
      "text/plain": [
       "<Figure size 432x288 with 1 Axes>"
      ]
     },
     "metadata": {
      "needs_background": "light"
     },
     "output_type": "display_data"
    },
    {
     "data": {
      "text/plain": [
       "Text(0.5, 1.0, 'Total cases of covid')"
      ]
     },
     "execution_count": 103,
     "metadata": {},
     "output_type": "execute_result"
    },
    {
     "data": {
      "image/png": "[encoded data removed]",
      "text/plain": [
       "<Figure size 432x288 with 1 Axes>"
      ]
     },
     "metadata": {
      "needs_background": "light"
     },
     "output_type": "display_data"
    }
   ],
   "source": [
    "def diabetescases(code,key):\n",
    "    iso_codes = dataS5['iso_code']\n",
    "    diabetes_prevalence = dataS5[key]\n",
    "    for x in range(len(iso_codes)):\n",
    "        if iso_codes[x] == code:\n",
    "            return diabetes_prevalence[x]\n",
    "            break\n",
    "data=[]\n",
    "countriesToLookFor = ['IND','USA','IRQ','ITA','JPN']\n",
    "for C in countriesToLookFor:    \n",
    "    data.append(diabetescases(C,'diabetes_prevalence'))\n",
    "pyplot.bar(countriesToLookFor,data)\n",
    "pyplot.title('diabetes_prevalence')\n",
    "pyplot.show()\n",
    "\n",
    "\n",
    "def cardiovasc_death_rateplotter(code,key):\n",
    "    iso_codes = dataS5['iso_code']\n",
    "    cardiovasc_death_rate = dataS5[key]\n",
    "    for x in range(len(iso_codes)):\n",
    "        if iso_codes[x] == code:\n",
    "            return cardiovasc_death_rate[x]\n",
    "            break\n",
    "dataY=[]\n",
    "countriesToLookFor = ['IND','USA','IRQ','ITA','JPN']\n",
    "for C in countriesToLookFor:    \n",
    "    dataY.append(cardiovasc_death_rateplotter(C,'cardiovasc_death_rate'))\n",
    "pyplot.bar(countriesToLookFor,dataY)\n",
    "pyplot.title('cardiovasc_death_rate')\n",
    "pyplot.show()\n",
    "\n",
    "\n",
    "def dailyCasesPlotter(code,key):\n",
    "    iso_codes = dataS5['iso_code']\n",
    "    total_cases = dataS5[key]\n",
    "    num = 0\n",
    "    for x in range(len(iso_codes)):\n",
    "        if iso_codes[x] == code:\n",
    "            if total_cases[x] != None:\n",
    "                num += total_cases[x]\n",
    "    return num        \n",
    "countriesToLookFor = ['IND','USA','IRQ','ITA','JPN']\n",
    "totalCases = []\n",
    "for C in countriesToLookFor:    \n",
    "    totalCases.append(dailyCasesPlotter(C,'new_cases'))\n",
    "pyplot.bar(countriesToLookFor,totalCases)\n",
    "pyplot.title(\"Total cases of covid\")"
   ]
  },
  {
   "cell_type": "markdown",
   "metadata": {},
   "source": [
    "<h2> Altitude </h2>"
   ]
  },
  {
   "cell_type": "code",
   "execution_count": 104,
   "metadata": {},
   "outputs": [
    {
     "data": {
      "image/png": "[encoded data removed]",
      "text/plain": [
       "<Figure size 432x288 with 1 Axes>"
      ]
     },
     "metadata": {
      "needs_background": "light"
     },
     "output_type": "display_data"
    },
    {
     "data": {
      "text/plain": [
       "Text(0.5, 1.0, 'Total cases of covid')"
      ]
     },
     "execution_count": 104,
     "metadata": {},
     "output_type": "execute_result"
    },
    {
     "data": {
      "image/png": "[encoded data removed]",
      "text/plain": [
       "<Figure size 432x288 with 1 Axes>"
      ]
     },
     "metadata": {
      "needs_background": "light"
     },
     "output_type": "display_data"
    }
   ],
   "source": [
    "wb = load_workbook(\"D:\\\\DA data altitude.xlsx\")  # Work Book\n",
    "ws = wb[wb.sheetnames[0]]\n",
    "column = ws['A']  # Column\n",
    "columnalt = ws['D']\n",
    "countriesToLookFor = ['India','Mexico','Nepal','United Kingdom','United States']\n",
    "data=[]\n",
    "countries=[]\n",
    "for i in range(len(column)):\n",
    "    countries.append(column[i].value)\n",
    "\n",
    "\n",
    "for i in countriesToLookFor:\n",
    "    x=columnalt[countries.index(i)].value\n",
    "    s=''\n",
    "    for i in x:\n",
    "        if i.isdigit():\n",
    "            s=s+i\n",
    "        elif i==',':\n",
    "            continue\n",
    "        else:\n",
    "            break\n",
    "    data.append(int(s))\n",
    "\n",
    "pyplot.bar(countriesToLookFor,data)\n",
    "pyplot.title('altitude variations')\n",
    "pyplot.ylabel('in meters')\n",
    "pyplot.show()\n",
    "\n",
    "\n",
    "countriesToLookFor = ['IND','MEX','NPL','UKR','USA']\n",
    "totalCases = []\n",
    "for C in countriesToLookFor:    \n",
    "    totalCases.append(dailyCasesPlotter(C,'new_cases_per_million'))\n",
    "countriesToLookFor[3] = 'UK'\n",
    "totalCases[3] = 1640000*1000000/66000000\n",
    "pyplot.bar(countriesToLookFor,totalCases)\n",
    "pyplot.title(\"Total cases of covid\")"
   ]
  },
  {
   "cell_type": "markdown",
   "metadata": {},
   "source": [
    "<h2> Economy </h2>"
   ]
  },
  {
   "cell_type": "markdown",
   "metadata": {},
   "source": [
    "<h2> After Lockdown Effects </h2>"
   ]
  },
  {
   "cell_type": "code",
   "execution_count": 94,
   "metadata": {},
   "outputs": [
    {
     "data": {
      "image/png": "[encoded data removed]",
      "text/plain": [
       "<Figure size 432x288 with 1 Axes>"
      ]
     },
     "metadata": {
      "needs_background": "light"
     },
     "output_type": "display_data"
    }
   ],
   "source": [
    "\n",
    "def dailyCasesPlotter(code,key,startDate,endDate):\n",
    "    iso_codes = dataS5['iso_code']\n",
    "#     print(iso_codes)\n",
    "    date = dataS5['date']\n",
    "    total_cases = dataS5[key]\n",
    "    total_cases_IND = []\n",
    "    date_IND = []\n",
    "    for x in range(len(iso_codes)):\n",
    "        if iso_codes[x] == code:\n",
    "            total_cases_IND.append(total_cases[x])\n",
    "            date_IND.append(date[x])\n",
    "    pyplot.plot(date_IND,total_cases_IND)\n",
    "    pyplot.title(\"Country : \" + code)\n",
    "    pyplot.xlabel(\"Days\")\n",
    "    pyplot.axvline(x=startDate)\n",
    "    pyplot.axvline(x=endDate)\n",
    "    pyplot.ylabel(key)\n",
    "    pyplot.show()\n",
    "\n",
    "dailyCasesPlotter('IND','new_cases','2020-03-25','2020-05-31')"
   ]
  },
  {
   "cell_type": "code",
   "execution_count": 113,
   "metadata": {},
   "outputs": [
    {
     "data": {
      "image/png": "[encoded data removed]",
      "text/plain": [
       "<Figure size 432x288 with 1 Axes>"
      ]
     },
     "metadata": {
      "needs_background": "light"
     },
     "output_type": "display_data"
    }
   ],
   "source": [
    "\n",
    "def dailyCasesLPlotter(code,key,startDate,endDate):\n",
    "    iso_codes = dataS5['iso_code']\n",
    "#     print(iso_codes)\n",
    "    date = dataS5['date']\n",
    "    total_cases = dataS5[key]\n",
    "    total_cases_IND = []\n",
    "    date_IND = []\n",
    "    for x in range(len(iso_codes)):\n",
    "        if iso_codes[x] == code:\n",
    "            total_cases_IND.append(total_cases[x])\n",
    "            date_IND.append(date[x])\n",
    "    startKey = date.index(startDate)\n",
    "    endKey = date.index(endDate)\n",
    "    final_cases = []\n",
    "    final_date = []\n",
    "    for x in range(startKey,endKey+1):\n",
    "        final_cases.append(total_cases_IND[x])\n",
    "        final_date.append(date_IND[x])\n",
    "    pyplot.plot(final_date,final_cases)\n",
    "    pyplot.title(\"Country : \" + code)\n",
    "    pyplot.xlabel(\"Days\")\n",
    "    pyplot.ylabel(key)\n",
    "    pyplot.show()\n",
    "    \n",
    "dailyCasesLPlotter('IND','new_cases','2020-03-25','2020-05-31')    "
   ]
  },
  {
   "cell_type": "code",
   "execution_count": 96,
   "metadata": {},
   "outputs": [
    {
     "data": {
      "text/plain": [
       "([<matplotlib.patches.Wedge at 0x26b03cd7640>,\n",
       "  <matplotlib.patches.Wedge at 0x26b03cd7b50>,\n",
       "  <matplotlib.patches.Wedge at 0x26b03cd7fd0>],\n",
       " [Text(-0.46835717599151955, 0.995309778760989, 'Bought at a higher price than mandated by the government at a retail store/chemist'),\n",
       "  Text(0.13786642613375089, -1.0913261879681562, 'Bought at government mandated price at a retail store/chemist'),\n",
       "  Text(1.0461621185951564, -0.33991884563303376, 'Bought at a higher price than mandated by the government online')])"
      ]
     },
     "execution_count": 96,
     "metadata": {},
     "output_type": "execute_result"
    },
    {
     "data": {
      "image/png": "[encoded data removed]",
      "text/plain": [
       "<Figure size 432x288 with 1 Axes>"
      ]
     },
     "metadata": {},
     "output_type": "display_data"
    }
   ],
   "source": [
    "wbAge = load_workbook(\"D:\\statistic_id1108922_opinion-on-impact-of-covid-19-lockdown-on-hand-sanitizer-prices-india-2020.xlsx\")  # Work Book\n",
    "wsAge = wbAge[wbAge.sheetnames[1]]\n",
    "\n",
    "ageGroup = []\n",
    "percentage = []\n",
    "\n",
    "colAge = wsAge['B']\n",
    "colPer = wsAge['C']\n",
    "\n",
    "for x in range(5,8):\n",
    "    ageGroup.append(colAge[x].value)\n",
    "    percentage.append(colPer[x].value)\n",
    "pyplot.title(\"Opinion about the coronavirus (COVID-19) lockdown impact on hand sanitizer pricing across India as of March 31, 2020\")\n",
    "pyplot.pie(percentage, labels = ageGroup) \n",
    "    \n",
    "\n"
   ]
  },
  {
   "cell_type": "code",
   "execution_count": 112,
   "metadata": {},
   "outputs": [
    {
     "data": {
      "image/png": "[encoded data removed]",
      "text/plain": [
       "<Figure size 432x288 with 1 Axes>"
      ]
     },
     "metadata": {
      "needs_background": "light"
     },
     "output_type": "display_data"
    },
    {
     "data": {
      "text/plain": [
       "Text(0.5, 1.0, 'Total cases of covid')"
      ]
     },
     "execution_count": 112,
     "metadata": {},
     "output_type": "execute_result"
    },
    {
     "data": {
      "image/png": "[encoded data removed]",
      "text/plain": [
       "<Figure size 432x288 with 1 Axes>"
      ]
     },
     "metadata": {
      "needs_background": "light"
     },
     "output_type": "display_data"
    }
   ],
   "source": [
    "wbAge = load_workbook(\"D:\\statistic_id1119805_pm25-pollutant-levels-in-select-worldwide-cities-during-covid-19-lockdown-2020.xlsx\")  # Work Book\n",
    "wsAge = wbAge[wbAge.sheetnames[1]]\n",
    "\n",
    "ageGroup = []\n",
    "percentage = []\n",
    "\n",
    "colAge = wsAge['B']\n",
    "colPer = wsAge['C']\n",
    "\n",
    "for x in range(6,10):\n",
    "    ageGroup.append(colAge[x].value)\n",
    "    percentage.append(colPer[x].value)\n",
    "#     percentage.append(0)\n",
    "pyplot.title(\"PM2.5 pollutant levels in select cities during COVID-19 lockdowns in 2020 (in micrograms per cubic meter)\")\n",
    "pyplot.bar(ageGroup,percentage)\n",
    "pyplot.show()\n",
    "countriesToLookFor = ['IND','ITA','BRA','USA']\n",
    "totalCases = []\n",
    "for C in countriesToLookFor:    \n",
    "    totalCases.append(dailyCasesPlotter(C,'new_cases_per_million'))\n",
    "\n",
    "pyplot.bar(countriesToLookFor,totalCases)\n",
    "pyplot.title(\"Total cases of covid\")    \n",
    "\n"
   ]
  },
  {
   "cell_type": "code",
   "execution_count": 101,
   "metadata": {
    "scrolled": true
   },
   "outputs": [
    {
     "name": "stdout",
     "output_type": "stream",
     "text": [
      "dict_keys(['iso_code', 'continent', 'location', 'date', 'total_cases', 'new_cases', 'new_cases_smoothed', 'total_deaths', 'new_deaths', 'new_deaths_smoothed', 'total_cases_per_million', 'new_cases_per_million', 'new_cases_smoothed_per_million', 'total_deaths_per_million', 'new_deaths_per_million', 'new_deaths_smoothed_per_million', 'reproduction_rate', 'icu_patients', 'icu_patients_per_million', 'hosp_patients', 'hosp_patients_per_million', 'weekly_icu_admissions', 'weekly_icu_admissions_per_million', 'weekly_hosp_admissions', 'weekly_hosp_admissions_per_million', 'total_tests', 'new_tests', 'total_tests_per_thousand', 'new_tests_per_thousand', 'new_tests_smoothed', 'new_tests_smoothed_per_thousand', 'tests_per_case', 'positive_rate', 'tests_units', 'stringency_index', 'population', 'population_density', 'median_age', 'aged_65_older', 'aged_70_older', 'gdp_per_capita', 'extreme_poverty', 'cardiovasc_death_rate', 'diabetes_prevalence', 'female_smokers', 'male_smokers', 'handwashing_facilities', 'hospital_beds_per_thousand', 'life_expectancy', 'human_development_index'])\n"
     ]
    }
   ],
   "source": [
    "columnHeadings = dataS5.keys()\n",
    "print(columnHeadings)"
   ]
  },
  {
   "cell_type": "markdown",
   "metadata": {},
   "source": []
  },
  {
   "cell_type": "code",
   "execution_count": null,
   "metadata": {},
   "outputs": [],
   "source": []
  }
 ],
 "metadata": {
  "kernelspec": {
   "display_name": "Python 3",
   "language": "python",
   "name": "python3"
  },
  "language_info": {
   "codemirror_mode": {
    "name": "ipython",
    "version": 3
   },
   "file_extension": ".py",
   "mimetype": "text/x-python",
   "name": "python",
   "nbconvert_exporter": "python",
   "pygments_lexer": "ipython3",
   "version": "3.8.2"
  }
 },
 "nbformat": 4,
 "nbformat_minor": 4
}
