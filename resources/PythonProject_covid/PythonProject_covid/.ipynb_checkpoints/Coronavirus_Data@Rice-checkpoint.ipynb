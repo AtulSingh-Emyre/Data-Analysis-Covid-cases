{
 "cells": [
  {
   "cell_type": "markdown",
   "metadata": {},
   "source": [
    "<p><img style=\"float: right ;margin:7px 22px 7px 1px; max-width:250px\" src=\"corona.jpg\"></p>\n",
    "\n",
    "\n",
    "### Data come from Johns Hopkins Github\n",
    "[Johns Hopkins](https://github.com/CSSEGISandData/COVID-19/tree/master/csse_covid_19_data/csse_covid_19_time_series)\n",
    "\n",
    "\n",
    "### Content\n",
    "- Download & Clean Data\n",
    "- Calculate daily confirmed cases world wide since Jan 2020\n",
    "- China and US compared to the rest of the world\n",
    "- Annotate the timeline\n",
    "- Top 10 Hardest hit countries as of Nov 2 2020\n",
    "\n",
    "\n",
    "### Package used : Pandas, Matplotlib\n",
    "\n",
    "Reference : [Tidy Data](https://cran.r-project.org/web/packages/tidyr/vignettes/tidy-data.html)\n",
    "            [Lambda Function](https://www.w3schools.com/python/python_lambda.asp)"
   ]
  },
  {
   "cell_type": "markdown",
   "metadata": {},
   "source": [
    "## 1. Download & Clean Data"
   ]
  },
  {
   "cell_type": "code",
   "execution_count": 147,
   "metadata": {},
   "outputs": [],
   "source": [
    "import pandas as pd"
   ]
  },
  {
   "cell_type": "code",
   "execution_count": 148,
   "metadata": {},
   "outputs": [
    {
     "data": {
      "text/html": [
       "<div>\n",
       "<style scoped>\n",
       "    .dataframe tbody tr th:only-of-type {\n",
       "        vertical-align: middle;\n",
       "    }\n",
       "\n",
       "    .dataframe tbody tr th {\n",
       "        vertical-align: top;\n",
       "    }\n",
       "\n",
       "    .dataframe thead th {\n",
       "        text-align: right;\n",
       "    }\n",
       "</style>\n",
       "<table border=\"1\" class=\"dataframe\">\n",
       "  <thead>\n",
       "    <tr style=\"text-align: right;\">\n",
       "      <th></th>\n",
       "      <th>Province/State</th>\n",
       "      <th>Country/Region</th>\n",
       "      <th>Lat</th>\n",
       "      <th>Long</th>\n",
       "      <th>1/22/20</th>\n",
       "      <th>1/23/20</th>\n",
       "      <th>1/24/20</th>\n",
       "      <th>1/25/20</th>\n",
       "      <th>1/26/20</th>\n",
       "      <th>1/27/20</th>\n",
       "      <th>...</th>\n",
       "      <th>10/23/20</th>\n",
       "      <th>10/24/20</th>\n",
       "      <th>10/25/20</th>\n",
       "      <th>10/26/20</th>\n",
       "      <th>10/27/20</th>\n",
       "      <th>10/28/20</th>\n",
       "      <th>10/29/20</th>\n",
       "      <th>10/30/20</th>\n",
       "      <th>10/31/20</th>\n",
       "      <th>11/1/20</th>\n",
       "    </tr>\n",
       "  </thead>\n",
       "  <tbody>\n",
       "    <tr>\n",
       "      <td>0</td>\n",
       "      <td>NaN</td>\n",
       "      <td>Afghanistan</td>\n",
       "      <td>33.93911</td>\n",
       "      <td>67.709953</td>\n",
       "      <td>0</td>\n",
       "      <td>0</td>\n",
       "      <td>0</td>\n",
       "      <td>0</td>\n",
       "      <td>0</td>\n",
       "      <td>0</td>\n",
       "      <td>...</td>\n",
       "      <td>40687</td>\n",
       "      <td>40768</td>\n",
       "      <td>40833</td>\n",
       "      <td>40937</td>\n",
       "      <td>41032</td>\n",
       "      <td>41145</td>\n",
       "      <td>41268</td>\n",
       "      <td>41334</td>\n",
       "      <td>41425</td>\n",
       "      <td>41501</td>\n",
       "    </tr>\n",
       "    <tr>\n",
       "      <td>1</td>\n",
       "      <td>NaN</td>\n",
       "      <td>Albania</td>\n",
       "      <td>41.15330</td>\n",
       "      <td>20.168300</td>\n",
       "      <td>0</td>\n",
       "      <td>0</td>\n",
       "      <td>0</td>\n",
       "      <td>0</td>\n",
       "      <td>0</td>\n",
       "      <td>0</td>\n",
       "      <td>...</td>\n",
       "      <td>18556</td>\n",
       "      <td>18858</td>\n",
       "      <td>19157</td>\n",
       "      <td>19445</td>\n",
       "      <td>19729</td>\n",
       "      <td>20040</td>\n",
       "      <td>20315</td>\n",
       "      <td>20634</td>\n",
       "      <td>20875</td>\n",
       "      <td>21202</td>\n",
       "    </tr>\n",
       "    <tr>\n",
       "      <td>2</td>\n",
       "      <td>NaN</td>\n",
       "      <td>Algeria</td>\n",
       "      <td>28.03390</td>\n",
       "      <td>1.659600</td>\n",
       "      <td>0</td>\n",
       "      <td>0</td>\n",
       "      <td>0</td>\n",
       "      <td>0</td>\n",
       "      <td>0</td>\n",
       "      <td>0</td>\n",
       "      <td>...</td>\n",
       "      <td>55630</td>\n",
       "      <td>55880</td>\n",
       "      <td>56143</td>\n",
       "      <td>56419</td>\n",
       "      <td>56706</td>\n",
       "      <td>57026</td>\n",
       "      <td>57332</td>\n",
       "      <td>57651</td>\n",
       "      <td>57942</td>\n",
       "      <td>58272</td>\n",
       "    </tr>\n",
       "  </tbody>\n",
       "</table>\n",
       "<p>3 rows × 289 columns</p>\n",
       "</div>"
      ],
      "text/plain": [
       "  Province/State Country/Region       Lat       Long  1/22/20  1/23/20  \\\n",
       "0            NaN    Afghanistan  33.93911  67.709953        0        0   \n",
       "1            NaN        Albania  41.15330  20.168300        0        0   \n",
       "2            NaN        Algeria  28.03390   1.659600        0        0   \n",
       "\n",
       "   1/24/20  1/25/20  1/26/20  1/27/20  ...  10/23/20  10/24/20  10/25/20  \\\n",
       "0        0        0        0        0  ...     40687     40768     40833   \n",
       "1        0        0        0        0  ...     18556     18858     19157   \n",
       "2        0        0        0        0  ...     55630     55880     56143   \n",
       "\n",
       "   10/26/20  10/27/20  10/28/20  10/29/20  10/30/20  10/31/20  11/1/20  \n",
       "0     40937     41032     41145     41268     41334     41425    41501  \n",
       "1     19445     19729     20040     20315     20634     20875    21202  \n",
       "2     56419     56706     57026     57332     57651     57942    58272  \n",
       "\n",
       "[3 rows x 289 columns]"
      ]
     },
     "execution_count": 148,
     "metadata": {},
     "output_type": "execute_result"
    }
   ],
   "source": [
    "# Download data from Github\n",
    "\n",
    "path = \"https://raw.githubusercontent.com/CSSEGISandData/COVID-19/master/csse_covid_19_data/csse_covid_19_time_series/time_series_covid19_confirmed_global.csv\"\n",
    "df=pd.read_csv(path,index_col=False)\n",
    "df.head(3)\n"
   ]
  },
  {
   "cell_type": "code",
   "execution_count": 149,
   "metadata": {},
   "outputs": [],
   "source": [
    "# drop unwanted columns, axis=1 drop column\n",
    "df=df.drop([\"Province/State\",\"Lat\",\"Long\"], axis=1)"
   ]
  },
  {
   "cell_type": "code",
   "execution_count": 150,
   "metadata": {},
   "outputs": [
    {
     "data": {
      "text/plain": [
       "Country/Region          \n",
       "Afghanistan     1/22/20        0\n",
       "                1/23/20        0\n",
       "                1/24/20        0\n",
       "                1/25/20        0\n",
       "                1/26/20        0\n",
       "                            ... \n",
       "Zimbabwe        10/28/20    8320\n",
       "                10/29/20    8349\n",
       "                10/30/20    8362\n",
       "                10/31/20    8367\n",
       "                11/1/20     8374\n",
       "Length: 76380, dtype: int64"
      ]
     },
     "execution_count": 150,
     "metadata": {},
     "output_type": "execute_result"
    }
   ],
   "source": [
    "# change data from wide to long\n",
    "df.set_index(\"Country/Region\",inplace =True)\n",
    "df=df.stack()\n",
    "df"
   ]
  },
  {
   "cell_type": "code",
   "execution_count": 151,
   "metadata": {},
   "outputs": [
    {
     "data": {
      "text/html": [
       "<div>\n",
       "<style scoped>\n",
       "    .dataframe tbody tr th:only-of-type {\n",
       "        vertical-align: middle;\n",
       "    }\n",
       "\n",
       "    .dataframe tbody tr th {\n",
       "        vertical-align: top;\n",
       "    }\n",
       "\n",
       "    .dataframe thead th {\n",
       "        text-align: right;\n",
       "    }\n",
       "</style>\n",
       "<table border=\"1\" class=\"dataframe\">\n",
       "  <thead>\n",
       "    <tr style=\"text-align: right;\">\n",
       "      <th></th>\n",
       "      <th>Country/Region</th>\n",
       "      <th>level_1</th>\n",
       "      <th>0</th>\n",
       "    </tr>\n",
       "  </thead>\n",
       "  <tbody>\n",
       "    <tr>\n",
       "      <td>0</td>\n",
       "      <td>Afghanistan</td>\n",
       "      <td>1/22/20</td>\n",
       "      <td>0</td>\n",
       "    </tr>\n",
       "    <tr>\n",
       "      <td>1</td>\n",
       "      <td>Afghanistan</td>\n",
       "      <td>1/23/20</td>\n",
       "      <td>0</td>\n",
       "    </tr>\n",
       "    <tr>\n",
       "      <td>2</td>\n",
       "      <td>Afghanistan</td>\n",
       "      <td>1/24/20</td>\n",
       "      <td>0</td>\n",
       "    </tr>\n",
       "    <tr>\n",
       "      <td>3</td>\n",
       "      <td>Afghanistan</td>\n",
       "      <td>1/25/20</td>\n",
       "      <td>0</td>\n",
       "    </tr>\n",
       "    <tr>\n",
       "      <td>4</td>\n",
       "      <td>Afghanistan</td>\n",
       "      <td>1/26/20</td>\n",
       "      <td>0</td>\n",
       "    </tr>\n",
       "    <tr>\n",
       "      <td>...</td>\n",
       "      <td>...</td>\n",
       "      <td>...</td>\n",
       "      <td>...</td>\n",
       "    </tr>\n",
       "    <tr>\n",
       "      <td>76375</td>\n",
       "      <td>Zimbabwe</td>\n",
       "      <td>10/28/20</td>\n",
       "      <td>8320</td>\n",
       "    </tr>\n",
       "    <tr>\n",
       "      <td>76376</td>\n",
       "      <td>Zimbabwe</td>\n",
       "      <td>10/29/20</td>\n",
       "      <td>8349</td>\n",
       "    </tr>\n",
       "    <tr>\n",
       "      <td>76377</td>\n",
       "      <td>Zimbabwe</td>\n",
       "      <td>10/30/20</td>\n",
       "      <td>8362</td>\n",
       "    </tr>\n",
       "    <tr>\n",
       "      <td>76378</td>\n",
       "      <td>Zimbabwe</td>\n",
       "      <td>10/31/20</td>\n",
       "      <td>8367</td>\n",
       "    </tr>\n",
       "    <tr>\n",
       "      <td>76379</td>\n",
       "      <td>Zimbabwe</td>\n",
       "      <td>11/1/20</td>\n",
       "      <td>8374</td>\n",
       "    </tr>\n",
       "  </tbody>\n",
       "</table>\n",
       "<p>76380 rows × 3 columns</p>\n",
       "</div>"
      ],
      "text/plain": [
       "      Country/Region   level_1     0\n",
       "0        Afghanistan   1/22/20     0\n",
       "1        Afghanistan   1/23/20     0\n",
       "2        Afghanistan   1/24/20     0\n",
       "3        Afghanistan   1/25/20     0\n",
       "4        Afghanistan   1/26/20     0\n",
       "...              ...       ...   ...\n",
       "76375       Zimbabwe  10/28/20  8320\n",
       "76376       Zimbabwe  10/29/20  8349\n",
       "76377       Zimbabwe  10/30/20  8362\n",
       "76378       Zimbabwe  10/31/20  8367\n",
       "76379       Zimbabwe   11/1/20  8374\n",
       "\n",
       "[76380 rows x 3 columns]"
      ]
     },
     "execution_count": 151,
     "metadata": {},
     "output_type": "execute_result"
    }
   ],
   "source": [
    "df = df.reset_index()\n",
    "df"
   ]
  },
  {
   "cell_type": "code",
   "execution_count": 152,
   "metadata": {
    "scrolled": true
   },
   "outputs": [
    {
     "data": {
      "text/html": [
       "<div>\n",
       "<style scoped>\n",
       "    .dataframe tbody tr th:only-of-type {\n",
       "        vertical-align: middle;\n",
       "    }\n",
       "\n",
       "    .dataframe tbody tr th {\n",
       "        vertical-align: top;\n",
       "    }\n",
       "\n",
       "    .dataframe thead th {\n",
       "        text-align: right;\n",
       "    }\n",
       "</style>\n",
       "<table border=\"1\" class=\"dataframe\">\n",
       "  <thead>\n",
       "    <tr style=\"text-align: right;\">\n",
       "      <th></th>\n",
       "      <th>Country/Region</th>\n",
       "      <th>date</th>\n",
       "      <th>cases</th>\n",
       "    </tr>\n",
       "  </thead>\n",
       "  <tbody>\n",
       "    <tr>\n",
       "      <td>0</td>\n",
       "      <td>Afghanistan</td>\n",
       "      <td>1/22/20</td>\n",
       "      <td>0</td>\n",
       "    </tr>\n",
       "    <tr>\n",
       "      <td>1</td>\n",
       "      <td>Afghanistan</td>\n",
       "      <td>1/23/20</td>\n",
       "      <td>0</td>\n",
       "    </tr>\n",
       "    <tr>\n",
       "      <td>2</td>\n",
       "      <td>Afghanistan</td>\n",
       "      <td>1/24/20</td>\n",
       "      <td>0</td>\n",
       "    </tr>\n",
       "  </tbody>\n",
       "</table>\n",
       "</div>"
      ],
      "text/plain": [
       "  Country/Region     date  cases\n",
       "0    Afghanistan  1/22/20      0\n",
       "1    Afghanistan  1/23/20      0\n",
       "2    Afghanistan  1/24/20      0"
      ]
     },
     "execution_count": 152,
     "metadata": {},
     "output_type": "execute_result"
    }
   ],
   "source": [
    "df.rename(columns={'level_1':'date',0:\"cases\"}, inplace=True)\n",
    "df.head(3)\n",
    "#df.dtypes"
   ]
  },
  {
   "cell_type": "code",
   "execution_count": 153,
   "metadata": {},
   "outputs": [],
   "source": [
    "df['date'] = pd.to_datetime(df['date'])\n"
   ]
  },
  {
   "cell_type": "code",
   "execution_count": 154,
   "metadata": {
    "scrolled": true
   },
   "outputs": [
    {
     "name": "stdout",
     "output_type": "stream",
     "text": [
      "  Country/Region       date  cases\n",
      "0    Afghanistan 2020-01-22      0\n",
      "1    Afghanistan 2020-01-23      0\n",
      "2    Afghanistan 2020-01-24      0\n",
      "3    Afghanistan 2020-01-25      0\n",
      "4    Afghanistan 2020-01-26      0\n"
     ]
    },
    {
     "data": {
      "text/plain": [
       "Country/Region            object\n",
       "date              datetime64[ns]\n",
       "cases                      int64\n",
       "dtype: object"
      ]
     },
     "execution_count": 154,
     "metadata": {},
     "output_type": "execute_result"
    }
   ],
   "source": [
    "print(df.head())\n",
    "df.dtypes"
   ]
  },
  {
   "cell_type": "markdown",
   "metadata": {},
   "source": [
    "## 2. Confirmed cases throughout the world"
   ]
  },
  {
   "cell_type": "code",
   "execution_count": 155,
   "metadata": {
    "scrolled": true
   },
   "outputs": [
    {
     "data": {
      "text/html": [
       "<div>\n",
       "<style scoped>\n",
       "    .dataframe tbody tr th:only-of-type {\n",
       "        vertical-align: middle;\n",
       "    }\n",
       "\n",
       "    .dataframe tbody tr th {\n",
       "        vertical-align: top;\n",
       "    }\n",
       "\n",
       "    .dataframe thead th {\n",
       "        text-align: right;\n",
       "    }\n",
       "</style>\n",
       "<table border=\"1\" class=\"dataframe\">\n",
       "  <thead>\n",
       "    <tr style=\"text-align: right;\">\n",
       "      <th></th>\n",
       "      <th>date</th>\n",
       "      <th>cum_cases</th>\n",
       "    </tr>\n",
       "  </thead>\n",
       "  <tbody>\n",
       "    <tr>\n",
       "      <td>0</td>\n",
       "      <td>2020-01-22</td>\n",
       "      <td>555</td>\n",
       "    </tr>\n",
       "    <tr>\n",
       "      <td>1</td>\n",
       "      <td>2020-01-23</td>\n",
       "      <td>654</td>\n",
       "    </tr>\n",
       "    <tr>\n",
       "      <td>2</td>\n",
       "      <td>2020-01-24</td>\n",
       "      <td>941</td>\n",
       "    </tr>\n",
       "  </tbody>\n",
       "</table>\n",
       "</div>"
      ],
      "text/plain": [
       "        date  cum_cases\n",
       "0 2020-01-22        555\n",
       "1 2020-01-23        654\n",
       "2 2020-01-24        941"
      ]
     },
     "execution_count": 155,
     "metadata": {},
     "output_type": "execute_result"
    }
   ],
   "source": [
    "daily_cases=df.groupby(\"date\").cases.sum()\n",
    "type(daily_cases)\n",
    "daily_cases=daily_cases.to_frame().reset_index()\n",
    "daily_cases\n",
    "daily_cases.rename(columns={'cases':'cum_cases'}, inplace=True)\n",
    "daily_cases.head(3)"
   ]
  },
  {
   "cell_type": "code",
   "execution_count": 156,
   "metadata": {
    "scrolled": false
   },
   "outputs": [
    {
     "data": {
      "image/png": "[encoded data removed]",
      "text/plain": [
       "<Figure size 432x288 with 1 Axes>"
      ]
     },
     "metadata": {},
     "output_type": "display_data"
    }
   ],
   "source": [
    "# plot data\n",
    "from matplotlib import pyplot as plt\n",
    "\n",
    "plt.style.use('ggplot')\n",
    "\n",
    "plt.plot(daily_cases.date,daily_cases.cum_cases)\n",
    "\n",
    "plt.xticks(rotation=45)\n",
    "plt.ylabel(\"Accumulate Cases Worldwide\")\n",
    "\n",
    "plt.show();"
   ]
  },
  {
   "cell_type": "markdown",
   "metadata": {},
   "source": [
    "## 3. China and US compared to the rest of the world"
   ]
  },
  {
   "cell_type": "code",
   "execution_count": 157,
   "metadata": {},
   "outputs": [
    {
     "data": {
      "text/html": [
       "<div>\n",
       "<style scoped>\n",
       "    .dataframe tbody tr th:only-of-type {\n",
       "        vertical-align: middle;\n",
       "    }\n",
       "\n",
       "    .dataframe tbody tr th {\n",
       "        vertical-align: top;\n",
       "    }\n",
       "\n",
       "    .dataframe thead th {\n",
       "        text-align: right;\n",
       "    }\n",
       "</style>\n",
       "<table border=\"1\" class=\"dataframe\">\n",
       "  <thead>\n",
       "    <tr style=\"text-align: right;\">\n",
       "      <th></th>\n",
       "      <th>Country/Region</th>\n",
       "      <th>date</th>\n",
       "      <th>cases</th>\n",
       "      <th>ISChinaUS</th>\n",
       "    </tr>\n",
       "  </thead>\n",
       "  <tbody>\n",
       "    <tr>\n",
       "      <td>0</td>\n",
       "      <td>Afghanistan</td>\n",
       "      <td>2020-01-22</td>\n",
       "      <td>0</td>\n",
       "      <td>others</td>\n",
       "    </tr>\n",
       "    <tr>\n",
       "      <td>1</td>\n",
       "      <td>Afghanistan</td>\n",
       "      <td>2020-01-23</td>\n",
       "      <td>0</td>\n",
       "      <td>others</td>\n",
       "    </tr>\n",
       "    <tr>\n",
       "      <td>2</td>\n",
       "      <td>Afghanistan</td>\n",
       "      <td>2020-01-24</td>\n",
       "      <td>0</td>\n",
       "      <td>others</td>\n",
       "    </tr>\n",
       "  </tbody>\n",
       "</table>\n",
       "</div>"
      ],
      "text/plain": [
       "  Country/Region       date  cases ISChinaUS\n",
       "0    Afghanistan 2020-01-22      0    others\n",
       "1    Afghanistan 2020-01-23      0    others\n",
       "2    Afghanistan 2020-01-24      0    others"
      ]
     },
     "execution_count": 157,
     "metadata": {},
     "output_type": "execute_result"
    }
   ],
   "source": [
    "df['ISChinaUS']=df['Country/Region'].apply(lambda x: \"China\" if x==\"China\" else ('US' if x=='US' else 'others'))\n",
    "df.head(3)\n"
   ]
  },
  {
   "cell_type": "code",
   "execution_count": 158,
   "metadata": {},
   "outputs": [
    {
     "data": {
      "text/html": [
       "<div>\n",
       "<style scoped>\n",
       "    .dataframe tbody tr th:only-of-type {\n",
       "        vertical-align: middle;\n",
       "    }\n",
       "\n",
       "    .dataframe tbody tr th {\n",
       "        vertical-align: top;\n",
       "    }\n",
       "\n",
       "    .dataframe thead th {\n",
       "        text-align: right;\n",
       "    }\n",
       "</style>\n",
       "<table border=\"1\" class=\"dataframe\">\n",
       "  <thead>\n",
       "    <tr style=\"text-align: right;\">\n",
       "      <th></th>\n",
       "      <th>date</th>\n",
       "      <th>ISChinaUS</th>\n",
       "      <th>cases</th>\n",
       "    </tr>\n",
       "  </thead>\n",
       "  <tbody>\n",
       "    <tr>\n",
       "      <td>0</td>\n",
       "      <td>2020-01-22</td>\n",
       "      <td>China</td>\n",
       "      <td>548</td>\n",
       "    </tr>\n",
       "    <tr>\n",
       "      <td>1</td>\n",
       "      <td>2020-01-22</td>\n",
       "      <td>US</td>\n",
       "      <td>1</td>\n",
       "    </tr>\n",
       "    <tr>\n",
       "      <td>2</td>\n",
       "      <td>2020-01-22</td>\n",
       "      <td>others</td>\n",
       "      <td>6</td>\n",
       "    </tr>\n",
       "    <tr>\n",
       "      <td>3</td>\n",
       "      <td>2020-01-23</td>\n",
       "      <td>China</td>\n",
       "      <td>643</td>\n",
       "    </tr>\n",
       "    <tr>\n",
       "      <td>4</td>\n",
       "      <td>2020-01-23</td>\n",
       "      <td>US</td>\n",
       "      <td>1</td>\n",
       "    </tr>\n",
       "    <tr>\n",
       "      <td>...</td>\n",
       "      <td>...</td>\n",
       "      <td>...</td>\n",
       "      <td>...</td>\n",
       "    </tr>\n",
       "    <tr>\n",
       "      <td>850</td>\n",
       "      <td>2020-10-31</td>\n",
       "      <td>US</td>\n",
       "      <td>9125482</td>\n",
       "    </tr>\n",
       "    <tr>\n",
       "      <td>851</td>\n",
       "      <td>2020-10-31</td>\n",
       "      <td>others</td>\n",
       "      <td>36846052</td>\n",
       "    </tr>\n",
       "    <tr>\n",
       "      <td>852</td>\n",
       "      <td>2020-11-01</td>\n",
       "      <td>China</td>\n",
       "      <td>91397</td>\n",
       "    </tr>\n",
       "    <tr>\n",
       "      <td>853</td>\n",
       "      <td>2020-11-01</td>\n",
       "      <td>US</td>\n",
       "      <td>9206975</td>\n",
       "    </tr>\n",
       "    <tr>\n",
       "      <td>854</td>\n",
       "      <td>2020-11-01</td>\n",
       "      <td>others</td>\n",
       "      <td>37211414</td>\n",
       "    </tr>\n",
       "  </tbody>\n",
       "</table>\n",
       "<p>855 rows × 3 columns</p>\n",
       "</div>"
      ],
      "text/plain": [
       "          date ISChinaUS     cases\n",
       "0   2020-01-22     China       548\n",
       "1   2020-01-22        US         1\n",
       "2   2020-01-22    others         6\n",
       "3   2020-01-23     China       643\n",
       "4   2020-01-23        US         1\n",
       "..         ...       ...       ...\n",
       "850 2020-10-31        US   9125482\n",
       "851 2020-10-31    others  36846052\n",
       "852 2020-11-01     China     91397\n",
       "853 2020-11-01        US   9206975\n",
       "854 2020-11-01    others  37211414\n",
       "\n",
       "[855 rows x 3 columns]"
      ]
     },
     "execution_count": 158,
     "metadata": {},
     "output_type": "execute_result"
    }
   ],
   "source": [
    "ChinaUS_vs_others=df.groupby([\"date\",\"ISChinaUS\"]).cases.sum().reset_index()\n",
    "ChinaUS_vs_others"
   ]
  },
  {
   "cell_type": "code",
   "execution_count": 159,
   "metadata": {},
   "outputs": [
    {
     "data": {
      "image/png": "[encoded data removed]",
      "text/plain": [
       "<Figure size 432x288 with 1 Axes>"
      ]
     },
     "metadata": {},
     "output_type": "display_data"
    }
   ],
   "source": [
    "ChinaUS_vs_others.set_index('date').groupby('ISChinaUS')['cases'].plot(style='--', legend=True,rot=45, ylim=(0,20000000));\n"
   ]
  },
  {
   "cell_type": "markdown",
   "metadata": {},
   "source": [
    "## 4. Annotate the timeline"
   ]
  },
  {
   "cell_type": "code",
   "execution_count": 160,
   "metadata": {
    "scrolled": true
   },
   "outputs": [
    {
     "data": {
      "image/png": "[encoded data removed]",
      "text/plain": [
       "<Figure size 432x288 with 1 Axes>"
      ]
     },
     "metadata": {},
     "output_type": "display_data"
    }
   ],
   "source": [
    "ChinaUS_vs_others.set_index('date').groupby('ISChinaUS')['cases'].plot(legend=True,rot=45, ylim=(0,200000));\n",
    "\n",
    "plt.axvline(x='2020-01-23' , color=\"grey\", linestyle=\"--\");\n",
    "plt.text('2020-01-23', 10000, \"Wuhan Lockdown\")\n",
    "\n",
    "plt.axvline(x='2020-03-11' , color=\"grey\", linestyle=\"--\");\n",
    "plt.text('2020-03-11', 50000, \"Pandemic\\ndeclared\")\n",
    "\n",
    "plt.axvline(x='2020-03-22' , color=\"grey\", linestyle=\"--\");\n",
    "plt.text('2020-03-22', 20000, \"California 'Stay at Home'\\nOrder\");"
   ]
  },
  {
   "cell_type": "markdown",
   "metadata": {},
   "source": [
    "## 5. Top 10 Hardest hit countries as of Nov 2"
   ]
  },
  {
   "cell_type": "code",
   "execution_count": 167,
   "metadata": {},
   "outputs": [
    {
     "data": {
      "text/html": [
       "<div>\n",
       "<style scoped>\n",
       "    .dataframe tbody tr th:only-of-type {\n",
       "        vertical-align: middle;\n",
       "    }\n",
       "\n",
       "    .dataframe tbody tr th {\n",
       "        vertical-align: top;\n",
       "    }\n",
       "\n",
       "    .dataframe thead th {\n",
       "        text-align: right;\n",
       "    }\n",
       "</style>\n",
       "<table border=\"1\" class=\"dataframe\">\n",
       "  <thead>\n",
       "    <tr style=\"text-align: right;\">\n",
       "      <th></th>\n",
       "      <th>date</th>\n",
       "      <th>Country/Region</th>\n",
       "      <th>cases</th>\n",
       "    </tr>\n",
       "  </thead>\n",
       "  <tbody>\n",
       "    <tr>\n",
       "      <td>2848</td>\n",
       "      <td>2020-11-01</td>\n",
       "      <td>US</td>\n",
       "      <td>9206975</td>\n",
       "    </tr>\n",
       "    <tr>\n",
       "      <td>2844</td>\n",
       "      <td>2020-11-01</td>\n",
       "      <td>India</td>\n",
       "      <td>8229313</td>\n",
       "    </tr>\n",
       "    <tr>\n",
       "      <td>2841</td>\n",
       "      <td>2020-11-01</td>\n",
       "      <td>Brazil</td>\n",
       "      <td>5545705</td>\n",
       "    </tr>\n",
       "    <tr>\n",
       "      <td>2846</td>\n",
       "      <td>2020-11-01</td>\n",
       "      <td>Russia</td>\n",
       "      <td>1624648</td>\n",
       "    </tr>\n",
       "    <tr>\n",
       "      <td>2843</td>\n",
       "      <td>2020-11-01</td>\n",
       "      <td>France</td>\n",
       "      <td>1458999</td>\n",
       "    </tr>\n",
       "    <tr>\n",
       "      <td>2847</td>\n",
       "      <td>2020-11-01</td>\n",
       "      <td>Spain</td>\n",
       "      <td>1185678</td>\n",
       "    </tr>\n",
       "    <tr>\n",
       "      <td>2840</td>\n",
       "      <td>2020-11-01</td>\n",
       "      <td>Argentina</td>\n",
       "      <td>1173533</td>\n",
       "    </tr>\n",
       "    <tr>\n",
       "      <td>2842</td>\n",
       "      <td>2020-11-01</td>\n",
       "      <td>Colombia</td>\n",
       "      <td>1083321</td>\n",
       "    </tr>\n",
       "    <tr>\n",
       "      <td>2849</td>\n",
       "      <td>2020-11-01</td>\n",
       "      <td>United Kingdom</td>\n",
       "      <td>1038054</td>\n",
       "    </tr>\n",
       "    <tr>\n",
       "      <td>2845</td>\n",
       "      <td>2020-11-01</td>\n",
       "      <td>Mexico</td>\n",
       "      <td>929392</td>\n",
       "    </tr>\n",
       "  </tbody>\n",
       "</table>\n",
       "</div>"
      ],
      "text/plain": [
       "           date  Country/Region    cases\n",
       "2848 2020-11-01              US  9206975\n",
       "2844 2020-11-01           India  8229313\n",
       "2841 2020-11-01          Brazil  5545705\n",
       "2846 2020-11-01          Russia  1624648\n",
       "2843 2020-11-01          France  1458999\n",
       "2847 2020-11-01           Spain  1185678\n",
       "2840 2020-11-01       Argentina  1173533\n",
       "2842 2020-11-01        Colombia  1083321\n",
       "2849 2020-11-01  United Kingdom  1038054\n",
       "2845 2020-11-01          Mexico   929392"
      ]
     },
     "execution_count": 167,
     "metadata": {},
     "output_type": "execute_result"
    }
   ],
   "source": [
    "top10=df[df.date=='2020-11-1'].sort_values('cases',ascending=False)['Country/Region'].head(10)\n",
    "\n",
    "top10\n",
    "\n",
    "dftop10=df[df['Country/Region'].isin(top10)]\n",
    "dftop10\n",
    "\n",
    "dftop10=dftop10.groupby([\"date\",\"Country/Region\"]).cases.sum().reset_index()\n",
    "\n",
    "dftop10[dftop10.date=='2020-11-1'].sort_values(by=['cases'],ascending=False)"
   ]
  },
  {
   "cell_type": "code",
   "execution_count": 168,
   "metadata": {},
   "outputs": [
    {
     "data": {
      "image/png": "[encoded data removed]",
      "text/plain": [
       "<Figure size 432x288 with 1 Axes>"
      ]
     },
     "metadata": {},
     "output_type": "display_data"
    }
   ],
   "source": [
    "dftop10.set_index('date').groupby('Country/Region')['cases'].plot(legend=True,rot=45);"
   ]
  }
 ],
 "metadata": {
  "kernelspec": {
   "display_name": "Python 3",
   "language": "python",
   "name": "python3"
  },
  "language_info": {
   "codemirror_mode": {
    "name": "ipython",
    "version": 3
   },
   "file_extension": ".py",
   "mimetype": "text/x-python",
   "name": "python",
   "nbconvert_exporter": "python",
   "pygments_lexer": "ipython3",
   "version": "3.7.9"
  }
 },
 "nbformat": 4,
 "nbformat_minor": 2
}
